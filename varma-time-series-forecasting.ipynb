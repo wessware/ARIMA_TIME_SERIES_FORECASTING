{
 "cells": [
  {
   "cell_type": "code",
   "execution_count": 1,
   "id": "70878bf1",
   "metadata": {
    "_cell_guid": "b1076dfc-b9ad-4769-8c92-a6c4dae69d19",
    "_uuid": "8f2839f25d086af736a60e9eeb907d3b93b6e0e5",
    "execution": {
     "iopub.execute_input": "2023-02-07T15:11:10.121177Z",
     "iopub.status.busy": "2023-02-07T15:11:10.120508Z",
     "iopub.status.idle": "2023-02-07T15:11:11.485579Z",
     "shell.execute_reply": "2023-02-07T15:11:11.484299Z"
    },
    "papermill": {
     "duration": 1.376774,
     "end_time": "2023-02-07T15:11:11.488926",
     "exception": false,
     "start_time": "2023-02-07T15:11:10.112152",
     "status": "completed"
    },
    "tags": []
   },
   "outputs": [],
   "source": [
    "import pandas as pd\n",
    "\n",
    "from statsmodels.tsa.statespace.varmax import VARMAX\n",
    "\n",
    "from pandas.plotting import autocorrelation_plot\n",
    "from pandas import DataFrame\n",
    "\n",
    "import matplotlib\n",
    "from matplotlib import pyplot\n",
    "import seaborn as sns"
   ]
  },
  {
   "cell_type": "code",
   "execution_count": 2,
   "id": "a4fb55fa",
   "metadata": {
    "execution": {
     "iopub.execute_input": "2023-02-07T15:11:11.498062Z",
     "iopub.status.busy": "2023-02-07T15:11:11.497608Z",
     "iopub.status.idle": "2023-02-07T15:11:11.504631Z",
     "shell.execute_reply": "2023-02-07T15:11:11.503456Z"
    },
    "papermill": {
     "duration": 0.01421,
     "end_time": "2023-02-07T15:11:11.507061",
     "exception": false,
     "start_time": "2023-02-07T15:11:11.492851",
     "status": "completed"
    },
    "tags": []
   },
   "outputs": [],
   "source": [
    "pd.set_option('display.max_columns', None)\n",
    "pd.set_option('display.max_rows', 150)\n",
    "sns.set_style('darkgrid')\n",
    "matplotlib.rcParams['font.size'] = 14\n",
    "matplotlib.rcParams['figure.figsize'] = (10, 6)\n",
    "matplotlib.rcParams['figure.facecolor'] = '#000000'"
   ]
  },
  {
   "cell_type": "code",
   "execution_count": 3,
   "id": "b97e5c54",
   "metadata": {
    "execution": {
     "iopub.execute_input": "2023-02-07T15:11:11.515789Z",
     "iopub.status.busy": "2023-02-07T15:11:11.515379Z",
     "iopub.status.idle": "2023-02-07T15:11:11.573634Z",
     "shell.execute_reply": "2023-02-07T15:11:11.572370Z"
    },
    "papermill": {
     "duration": 0.065691,
     "end_time": "2023-02-07T15:11:11.576324",
     "exception": false,
     "start_time": "2023-02-07T15:11:11.510633",
     "status": "completed"
    },
    "tags": []
   },
   "outputs": [],
   "source": [
    "df = pd.read_csv('/kaggle/input/case-ih-time-series-data/data.csv', index_col=['date'], parse_dates=['date'])"
   ]
  },
  {
   "cell_type": "code",
   "execution_count": 4,
   "id": "bf26b5c7",
   "metadata": {
    "execution": {
     "iopub.execute_input": "2023-02-07T15:11:11.585834Z",
     "iopub.status.busy": "2023-02-07T15:11:11.585366Z",
     "iopub.status.idle": "2023-02-07T15:11:11.603225Z",
     "shell.execute_reply": "2023-02-07T15:11:11.602043Z"
    },
    "papermill": {
     "duration": 0.025773,
     "end_time": "2023-02-07T15:11:11.605703",
     "exception": false,
     "start_time": "2023-02-07T15:11:11.579930",
     "status": "completed"
    },
    "tags": []
   },
   "outputs": [
    {
     "data": {
      "text/html": [
       "<div>\n",
       "<style scoped>\n",
       "    .dataframe tbody tr th:only-of-type {\n",
       "        vertical-align: middle;\n",
       "    }\n",
       "\n",
       "    .dataframe tbody tr th {\n",
       "        vertical-align: top;\n",
       "    }\n",
       "\n",
       "    .dataframe thead th {\n",
       "        text-align: right;\n",
       "    }\n",
       "</style>\n",
       "<table border=\"1\" class=\"dataframe\">\n",
       "  <thead>\n",
       "    <tr style=\"text-align: right;\">\n",
       "      <th></th>\n",
       "      <th>work</th>\n",
       "      <th>income</th>\n",
       "    </tr>\n",
       "    <tr>\n",
       "      <th>date</th>\n",
       "      <th></th>\n",
       "      <th></th>\n",
       "    </tr>\n",
       "  </thead>\n",
       "  <tbody>\n",
       "    <tr>\n",
       "      <th>2021-09-30</th>\n",
       "      <td>2</td>\n",
       "      <td>2100</td>\n",
       "    </tr>\n",
       "    <tr>\n",
       "      <th>2021-10-03</th>\n",
       "      <td>1</td>\n",
       "      <td>3600</td>\n",
       "    </tr>\n",
       "    <tr>\n",
       "      <th>2021-10-04</th>\n",
       "      <td>1</td>\n",
       "      <td>4000</td>\n",
       "    </tr>\n",
       "    <tr>\n",
       "      <th>2021-10-05</th>\n",
       "      <td>1</td>\n",
       "      <td>7900</td>\n",
       "    </tr>\n",
       "    <tr>\n",
       "      <th>2021-10-06</th>\n",
       "      <td>1</td>\n",
       "      <td>7500</td>\n",
       "    </tr>\n",
       "  </tbody>\n",
       "</table>\n",
       "</div>"
      ],
      "text/plain": [
       "            work  income\n",
       "date                    \n",
       "2021-09-30     2    2100\n",
       "2021-10-03     1    3600\n",
       "2021-10-04     1    4000\n",
       "2021-10-05     1    7900\n",
       "2021-10-06     1    7500"
      ]
     },
     "execution_count": 4,
     "metadata": {},
     "output_type": "execute_result"
    }
   ],
   "source": [
    "df.head()"
   ]
  },
  {
   "cell_type": "code",
   "execution_count": 5,
   "id": "aa561d56",
   "metadata": {
    "execution": {
     "iopub.execute_input": "2023-02-07T15:11:11.615131Z",
     "iopub.status.busy": "2023-02-07T15:11:11.614696Z",
     "iopub.status.idle": "2023-02-07T15:11:11.625196Z",
     "shell.execute_reply": "2023-02-07T15:11:11.624048Z"
    },
    "papermill": {
     "duration": 0.018365,
     "end_time": "2023-02-07T15:11:11.627825",
     "exception": false,
     "start_time": "2023-02-07T15:11:11.609460",
     "status": "completed"
    },
    "tags": []
   },
   "outputs": [
    {
     "data": {
      "text/html": [
       "<div>\n",
       "<style scoped>\n",
       "    .dataframe tbody tr th:only-of-type {\n",
       "        vertical-align: middle;\n",
       "    }\n",
       "\n",
       "    .dataframe tbody tr th {\n",
       "        vertical-align: top;\n",
       "    }\n",
       "\n",
       "    .dataframe thead th {\n",
       "        text-align: right;\n",
       "    }\n",
       "</style>\n",
       "<table border=\"1\" class=\"dataframe\">\n",
       "  <thead>\n",
       "    <tr style=\"text-align: right;\">\n",
       "      <th></th>\n",
       "      <th>work</th>\n",
       "      <th>income</th>\n",
       "    </tr>\n",
       "    <tr>\n",
       "      <th>date</th>\n",
       "      <th></th>\n",
       "      <th></th>\n",
       "    </tr>\n",
       "  </thead>\n",
       "  <tbody>\n",
       "    <tr>\n",
       "      <th>2021-09-30</th>\n",
       "      <td>2</td>\n",
       "      <td>2100</td>\n",
       "    </tr>\n",
       "    <tr>\n",
       "      <th>2021-10-03</th>\n",
       "      <td>1</td>\n",
       "      <td>3600</td>\n",
       "    </tr>\n",
       "    <tr>\n",
       "      <th>2021-10-04</th>\n",
       "      <td>1</td>\n",
       "      <td>4000</td>\n",
       "    </tr>\n",
       "    <tr>\n",
       "      <th>2021-10-05</th>\n",
       "      <td>1</td>\n",
       "      <td>7900</td>\n",
       "    </tr>\n",
       "    <tr>\n",
       "      <th>2021-10-06</th>\n",
       "      <td>1</td>\n",
       "      <td>7500</td>\n",
       "    </tr>\n",
       "  </tbody>\n",
       "</table>\n",
       "</div>"
      ],
      "text/plain": [
       "            work  income\n",
       "date                    \n",
       "2021-09-30     2    2100\n",
       "2021-10-03     1    3600\n",
       "2021-10-04     1    4000\n",
       "2021-10-05     1    7900\n",
       "2021-10-06     1    7500"
      ]
     },
     "execution_count": 5,
     "metadata": {},
     "output_type": "execute_result"
    }
   ],
   "source": [
    "df.head()"
   ]
  },
  {
   "cell_type": "code",
   "execution_count": 6,
   "id": "5e5d5b9c",
   "metadata": {
    "execution": {
     "iopub.execute_input": "2023-02-07T15:11:11.637727Z",
     "iopub.status.busy": "2023-02-07T15:11:11.637308Z",
     "iopub.status.idle": "2023-02-07T15:11:11.642435Z",
     "shell.execute_reply": "2023-02-07T15:11:11.641162Z"
    },
    "papermill": {
     "duration": 0.01314,
     "end_time": "2023-02-07T15:11:11.644975",
     "exception": false,
     "start_time": "2023-02-07T15:11:11.631835",
     "status": "completed"
    },
    "tags": []
   },
   "outputs": [],
   "source": [
    "series = df.copy()"
   ]
  },
  {
   "cell_type": "code",
   "execution_count": 7,
   "id": "983575e3",
   "metadata": {
    "execution": {
     "iopub.execute_input": "2023-02-07T15:11:11.654802Z",
     "iopub.status.busy": "2023-02-07T15:11:11.654408Z",
     "iopub.status.idle": "2023-02-07T15:11:12.001901Z",
     "shell.execute_reply": "2023-02-07T15:11:12.000876Z"
    },
    "papermill": {
     "duration": 0.355537,
     "end_time": "2023-02-07T15:11:12.004633",
     "exception": false,
     "start_time": "2023-02-07T15:11:11.649096",
     "status": "completed"
    },
    "tags": []
   },
   "outputs": [
    {
     "data": {
      "text/plain": [
       "<AxesSubplot:>"
      ]
     },
     "execution_count": 7,
     "metadata": {},
     "output_type": "execute_result"
    },
    {
     "data": {
      "image/png": "[encoded data removed]",
      "text/plain": [
       "<Figure size 720x720 with 2 Axes>"
      ]
     },
     "metadata": {},
     "output_type": "display_data"
    }
   ],
   "source": [
    "corrmat = series.corr()\n",
    "\n",
    "pyplot.subplots(figsize=(10,10), facecolor='#808080')\n",
    "sns.heatmap(corrmat, cmap='RdBu', annot=True, square=True)"
   ]
  },
  {
   "cell_type": "code",
   "execution_count": 8,
   "id": "48855808",
   "metadata": {
    "execution": {
     "iopub.execute_input": "2023-02-07T15:11:12.016557Z",
     "iopub.status.busy": "2023-02-07T15:11:12.015404Z",
     "iopub.status.idle": "2023-02-07T15:11:12.664561Z",
     "shell.execute_reply": "2023-02-07T15:11:12.663281Z"
    },
    "papermill": {
     "duration": 0.657836,
     "end_time": "2023-02-07T15:11:12.667334",
     "exception": false,
     "start_time": "2023-02-07T15:11:12.009498",
     "status": "completed"
    },
    "tags": []
   },
   "outputs": [
    {
     "data": {
      "text/plain": [
       "<seaborn.axisgrid.PairGrid at 0x7f057e6e51d0>"
      ]
     },
     "execution_count": 8,
     "metadata": {},
     "output_type": "execute_result"
    },
    {
     "data": {
      "image/png": "[encoded data removed]",
      "text/plain": [
       "<Figure size 225.075x180 with 2 Axes>"
      ]
     },
     "metadata": {},
     "output_type": "display_data"
    }
   ],
   "source": [
    "sns.pairplot(data=series, hue='work', palette='viridis')"
   ]
  },
  {
   "cell_type": "code",
   "execution_count": 9,
   "id": "e4af382e",
   "metadata": {
    "execution": {
     "iopub.execute_input": "2023-02-07T15:11:12.679819Z",
     "iopub.status.busy": "2023-02-07T15:11:12.678972Z",
     "iopub.status.idle": "2023-02-07T15:11:12.690206Z",
     "shell.execute_reply": "2023-02-07T15:11:12.689013Z"
    },
    "papermill": {
     "duration": 0.02037,
     "end_time": "2023-02-07T15:11:12.693015",
     "exception": false,
     "start_time": "2023-02-07T15:11:12.672645",
     "status": "completed"
    },
    "tags": []
   },
   "outputs": [
    {
     "data": {
      "text/plain": [
       "DatetimeIndex(['2021-09-30', '2021-10-03', '2021-10-04', '2021-10-05',\n",
       "               '2021-10-06', '2021-10-07', '2021-10-08', '2021-10-09',\n",
       "               '2021-10-10', '2021-10-11',\n",
       "               ...\n",
       "               '2022-06-28', '2022-06-30', '2022-07-01', '2022-07-02',\n",
       "               '2022-07-03', '2022-07-04', '2022-07-05', '2022-07-06',\n",
       "               '2022-07-07', '2022-07-08'],\n",
       "              dtype='datetime64[ns]', name='date', length=192, freq=None)"
      ]
     },
     "execution_count": 9,
     "metadata": {},
     "output_type": "execute_result"
    }
   ],
   "source": [
    "series.index"
   ]
  },
  {
   "cell_type": "code",
   "execution_count": 10,
   "id": "457df1b8",
   "metadata": {
    "execution": {
     "iopub.execute_input": "2023-02-07T15:11:12.705130Z",
     "iopub.status.busy": "2023-02-07T15:11:12.704389Z",
     "iopub.status.idle": "2023-02-07T15:11:12.720002Z",
     "shell.execute_reply": "2023-02-07T15:11:12.718251Z"
    },
    "papermill": {
     "duration": 0.025953,
     "end_time": "2023-02-07T15:11:12.723934",
     "exception": false,
     "start_time": "2023-02-07T15:11:12.697981",
     "status": "completed"
    },
    "tags": []
   },
   "outputs": [
    {
     "name": "stderr",
     "output_type": "stream",
     "text": [
      "/opt/conda/lib/python3.7/site-packages/statsmodels/tsa/statespace/varmax.py:163: EstimationWarning: Estimation of VARMA(p,q) models is not generically robust, due especially to identification issues.\n",
      "  EstimationWarning)\n",
      "/opt/conda/lib/python3.7/site-packages/statsmodels/tsa/base/tsa_model.py:471: ValueWarning: A date index has been provided, but it has no associated frequency information and so will be ignored when e.g. forecasting.\n",
      "  self._init_dates(dates, freq)\n"
     ]
    }
   ],
   "source": [
    "model = VARMAX(series, order=(1, 1))"
   ]
  },
  {
   "cell_type": "code",
   "execution_count": null,
   "id": "47d9116f",
   "metadata": {
    "papermill": {
     "duration": 0.004809,
     "end_time": "2023-02-07T15:11:12.735825",
     "exception": false,
     "start_time": "2023-02-07T15:11:12.731016",
     "status": "completed"
    },
    "tags": []
   },
   "outputs": [],
   "source": []
  }
 ],
 "metadata": {
  "kernelspec": {
   "display_name": "Python 3",
   "language": "python",
   "name": "python3"
  },
  "language_info": {
   "codemirror_mode": {
    "name": "ipython",
    "version": 3
   },
   "file_extension": ".py",
   "mimetype": "text/x-python",
   "name": "python",
   "nbconvert_exporter": "python",
   "pygments_lexer": "ipython3",
   "version": "3.7.12"
  },
  "papermill": {
   "default_parameters": {},
   "duration": 12.803052,
   "end_time": "2023-02-07T15:11:13.565293",
   "environment_variables": {},
   "exception": null,
   "input_path": "__notebook__.ipynb",
   "output_path": "__notebook__.ipynb",
   "parameters": {},
   "start_time": "2023-02-07T15:11:00.762241",
   "version": "2.3.4"
  }
 },
 "nbformat": 4,
 "nbformat_minor": 5
}
