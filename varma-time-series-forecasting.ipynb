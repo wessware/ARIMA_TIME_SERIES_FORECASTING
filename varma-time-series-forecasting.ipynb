{
 "cells": [
  {
   "cell_type": "code",
   "execution_count": 1,
   "id": "77f882fc",
   "metadata": {
    "_cell_guid": "b1076dfc-b9ad-4769-8c92-a6c4dae69d19",
    "_uuid": "8f2839f25d086af736a60e9eeb907d3b93b6e0e5",
    "execution": {
     "iopub.execute_input": "2023-02-07T15:04:29.887042Z",
     "iopub.status.busy": "2023-02-07T15:04:29.886047Z",
     "iopub.status.idle": "2023-02-07T15:04:31.093351Z",
     "shell.execute_reply": "2023-02-07T15:04:31.092487Z"
    },
    "papermill": {
     "duration": 1.216087,
     "end_time": "2023-02-07T15:04:31.096141",
     "exception": false,
     "start_time": "2023-02-07T15:04:29.880054",
     "status": "completed"
    },
    "tags": []
   },
   "outputs": [],
   "source": [
    "import pandas as pd\n",
    "\n",
    "from statsmodels.tsa.statespace.varmax import VARMAX\n",
    "\n",
    "from pandas.plotting import autocorrelation_plot\n",
    "from pandas import DataFrame\n",
    "\n",
    "import matplotlib\n",
    "from matplotlib import pyplot\n",
    "import seaborn as sns"
   ]
  },
  {
   "cell_type": "code",
   "execution_count": 2,
   "id": "7bddc113",
   "metadata": {
    "execution": {
     "iopub.execute_input": "2023-02-07T15:04:31.104490Z",
     "iopub.status.busy": "2023-02-07T15:04:31.104058Z",
     "iopub.status.idle": "2023-02-07T15:04:31.110137Z",
     "shell.execute_reply": "2023-02-07T15:04:31.108933Z"
    },
    "papermill": {
     "duration": 0.012818,
     "end_time": "2023-02-07T15:04:31.112367",
     "exception": false,
     "start_time": "2023-02-07T15:04:31.099549",
     "status": "completed"
    },
    "tags": []
   },
   "outputs": [],
   "source": [
    "pd.set_option('display.max_columns', None)\n",
    "pd.set_option('display.max_rows', 150)\n",
    "sns.set_style('darkgrid')\n",
    "matplotlib.rcParams['font.size'] = 14\n",
    "matplotlib.rcParams['figure.figsize'] = (10, 6)\n",
    "matplotlib.rcParams['figure.facecolor'] = '#000000'"
   ]
  },
  {
   "cell_type": "code",
   "execution_count": 3,
   "id": "ccab010f",
   "metadata": {
    "execution": {
     "iopub.execute_input": "2023-02-07T15:04:31.120481Z",
     "iopub.status.busy": "2023-02-07T15:04:31.119760Z",
     "iopub.status.idle": "2023-02-07T15:04:31.139538Z",
     "shell.execute_reply": "2023-02-07T15:04:31.138469Z"
    },
    "papermill": {
     "duration": 0.026736,
     "end_time": "2023-02-07T15:04:31.142224",
     "exception": false,
     "start_time": "2023-02-07T15:04:31.115488",
     "status": "completed"
    },
    "tags": []
   },
   "outputs": [],
   "source": [
    "df = pd.read_csv('/kaggle/input/case-ih-time-series-data/data.csv')"
   ]
  },
  {
   "cell_type": "code",
   "execution_count": 4,
   "id": "49b67726",
   "metadata": {
    "execution": {
     "iopub.execute_input": "2023-02-07T15:04:31.150555Z",
     "iopub.status.busy": "2023-02-07T15:04:31.149816Z",
     "iopub.status.idle": "2023-02-07T15:04:31.168199Z",
     "shell.execute_reply": "2023-02-07T15:04:31.166993Z"
    },
    "papermill": {
     "duration": 0.025639,
     "end_time": "2023-02-07T15:04:31.171016",
     "exception": false,
     "start_time": "2023-02-07T15:04:31.145377",
     "status": "completed"
    },
    "tags": []
   },
   "outputs": [
    {
     "data": {
      "text/html": [
       "<div>\n",
       "<style scoped>\n",
       "    .dataframe tbody tr th:only-of-type {\n",
       "        vertical-align: middle;\n",
       "    }\n",
       "\n",
       "    .dataframe tbody tr th {\n",
       "        vertical-align: top;\n",
       "    }\n",
       "\n",
       "    .dataframe thead th {\n",
       "        text-align: right;\n",
       "    }\n",
       "</style>\n",
       "<table border=\"1\" class=\"dataframe\">\n",
       "  <thead>\n",
       "    <tr style=\"text-align: right;\">\n",
       "      <th></th>\n",
       "      <th>date</th>\n",
       "      <th>work</th>\n",
       "      <th>income</th>\n",
       "    </tr>\n",
       "  </thead>\n",
       "  <tbody>\n",
       "    <tr>\n",
       "      <th>0</th>\n",
       "      <td>Thursday, September 30, 2021</td>\n",
       "      <td>2</td>\n",
       "      <td>2100</td>\n",
       "    </tr>\n",
       "    <tr>\n",
       "      <th>1</th>\n",
       "      <td>Sunday, October 03, 2021</td>\n",
       "      <td>1</td>\n",
       "      <td>3600</td>\n",
       "    </tr>\n",
       "    <tr>\n",
       "      <th>2</th>\n",
       "      <td>Monday, October 04, 2021</td>\n",
       "      <td>1</td>\n",
       "      <td>4000</td>\n",
       "    </tr>\n",
       "    <tr>\n",
       "      <th>3</th>\n",
       "      <td>Tuesday, October 05, 2021</td>\n",
       "      <td>1</td>\n",
       "      <td>7900</td>\n",
       "    </tr>\n",
       "    <tr>\n",
       "      <th>4</th>\n",
       "      <td>Wednesday, October 06, 2021</td>\n",
       "      <td>1</td>\n",
       "      <td>7500</td>\n",
       "    </tr>\n",
       "  </tbody>\n",
       "</table>\n",
       "</div>"
      ],
      "text/plain": [
       "                           date  work  income\n",
       "0  Thursday, September 30, 2021     2    2100\n",
       "1      Sunday, October 03, 2021     1    3600\n",
       "2      Monday, October 04, 2021     1    4000\n",
       "3     Tuesday, October 05, 2021     1    7900\n",
       "4   Wednesday, October 06, 2021     1    7500"
      ]
     },
     "execution_count": 4,
     "metadata": {},
     "output_type": "execute_result"
    }
   ],
   "source": [
    "df.head()"
   ]
  },
  {
   "cell_type": "code",
   "execution_count": 5,
   "id": "2e6cda6c",
   "metadata": {
    "execution": {
     "iopub.execute_input": "2023-02-07T15:04:31.179491Z",
     "iopub.status.busy": "2023-02-07T15:04:31.178867Z",
     "iopub.status.idle": "2023-02-07T15:04:31.216425Z",
     "shell.execute_reply": "2023-02-07T15:04:31.215612Z"
    },
    "papermill": {
     "duration": 0.044413,
     "end_time": "2023-02-07T15:04:31.218877",
     "exception": false,
     "start_time": "2023-02-07T15:04:31.174464",
     "status": "completed"
    },
    "tags": []
   },
   "outputs": [],
   "source": [
    "df['date'] = pd.to_datetime(df['date'])"
   ]
  },
  {
   "cell_type": "code",
   "execution_count": 6,
   "id": "2bb4825d",
   "metadata": {
    "execution": {
     "iopub.execute_input": "2023-02-07T15:04:31.226928Z",
     "iopub.status.busy": "2023-02-07T15:04:31.226333Z",
     "iopub.status.idle": "2023-02-07T15:04:31.235228Z",
     "shell.execute_reply": "2023-02-07T15:04:31.234529Z"
    },
    "papermill": {
     "duration": 0.015088,
     "end_time": "2023-02-07T15:04:31.237223",
     "exception": false,
     "start_time": "2023-02-07T15:04:31.222135",
     "status": "completed"
    },
    "tags": []
   },
   "outputs": [
    {
     "data": {
      "text/html": [
       "<div>\n",
       "<style scoped>\n",
       "    .dataframe tbody tr th:only-of-type {\n",
       "        vertical-align: middle;\n",
       "    }\n",
       "\n",
       "    .dataframe tbody tr th {\n",
       "        vertical-align: top;\n",
       "    }\n",
       "\n",
       "    .dataframe thead th {\n",
       "        text-align: right;\n",
       "    }\n",
       "</style>\n",
       "<table border=\"1\" class=\"dataframe\">\n",
       "  <thead>\n",
       "    <tr style=\"text-align: right;\">\n",
       "      <th></th>\n",
       "      <th>date</th>\n",
       "      <th>work</th>\n",
       "      <th>income</th>\n",
       "    </tr>\n",
       "  </thead>\n",
       "  <tbody>\n",
       "    <tr>\n",
       "      <th>0</th>\n",
       "      <td>2021-09-30</td>\n",
       "      <td>2</td>\n",
       "      <td>2100</td>\n",
       "    </tr>\n",
       "    <tr>\n",
       "      <th>1</th>\n",
       "      <td>2021-10-03</td>\n",
       "      <td>1</td>\n",
       "      <td>3600</td>\n",
       "    </tr>\n",
       "    <tr>\n",
       "      <th>2</th>\n",
       "      <td>2021-10-04</td>\n",
       "      <td>1</td>\n",
       "      <td>4000</td>\n",
       "    </tr>\n",
       "    <tr>\n",
       "      <th>3</th>\n",
       "      <td>2021-10-05</td>\n",
       "      <td>1</td>\n",
       "      <td>7900</td>\n",
       "    </tr>\n",
       "    <tr>\n",
       "      <th>4</th>\n",
       "      <td>2021-10-06</td>\n",
       "      <td>1</td>\n",
       "      <td>7500</td>\n",
       "    </tr>\n",
       "  </tbody>\n",
       "</table>\n",
       "</div>"
      ],
      "text/plain": [
       "        date  work  income\n",
       "0 2021-09-30     2    2100\n",
       "1 2021-10-03     1    3600\n",
       "2 2021-10-04     1    4000\n",
       "3 2021-10-05     1    7900\n",
       "4 2021-10-06     1    7500"
      ]
     },
     "execution_count": 6,
     "metadata": {},
     "output_type": "execute_result"
    }
   ],
   "source": [
    "df.head()"
   ]
  },
  {
   "cell_type": "code",
   "execution_count": 7,
   "id": "c20686e5",
   "metadata": {
    "execution": {
     "iopub.execute_input": "2023-02-07T15:04:31.245992Z",
     "iopub.status.busy": "2023-02-07T15:04:31.244949Z",
     "iopub.status.idle": "2023-02-07T15:04:31.249586Z",
     "shell.execute_reply": "2023-02-07T15:04:31.248844Z"
    },
    "papermill": {
     "duration": 0.011139,
     "end_time": "2023-02-07T15:04:31.251766",
     "exception": false,
     "start_time": "2023-02-07T15:04:31.240627",
     "status": "completed"
    },
    "tags": []
   },
   "outputs": [],
   "source": [
    "series = df.copy()"
   ]
  },
  {
   "cell_type": "code",
   "execution_count": 8,
   "id": "a9728c1e",
   "metadata": {
    "execution": {
     "iopub.execute_input": "2023-02-07T15:04:31.260493Z",
     "iopub.status.busy": "2023-02-07T15:04:31.259530Z",
     "iopub.status.idle": "2023-02-07T15:04:31.569468Z",
     "shell.execute_reply": "2023-02-07T15:04:31.568341Z"
    },
    "papermill": {
     "duration": 0.316621,
     "end_time": "2023-02-07T15:04:31.571771",
     "exception": false,
     "start_time": "2023-02-07T15:04:31.255150",
     "status": "completed"
    },
    "tags": []
   },
   "outputs": [
    {
     "data": {
      "text/plain": [
       "<AxesSubplot:>"
      ]
     },
     "execution_count": 8,
     "metadata": {},
     "output_type": "execute_result"
    },
    {
     "data": {
      "image/png": "[encoded data removed]",
      "text/plain": [
       "<Figure size 720x720 with 2 Axes>"
      ]
     },
     "metadata": {},
     "output_type": "display_data"
    }
   ],
   "source": [
    "corrmat = series.corr()\n",
    "\n",
    "pyplot.subplots(figsize=(10,10), facecolor='#808080')\n",
    "sns.heatmap(corrmat, cmap='RdBu', annot=True, square=True)"
   ]
  },
  {
   "cell_type": "code",
   "execution_count": null,
   "id": "a3bef8a8",
   "metadata": {
    "papermill": {
     "duration": 0.003322,
     "end_time": "2023-02-07T15:04:31.578884",
     "exception": false,
     "start_time": "2023-02-07T15:04:31.575562",
     "status": "completed"
    },
    "tags": []
   },
   "outputs": [],
   "source": []
  }
 ],
 "metadata": {
  "kernelspec": {
   "display_name": "Python 3",
   "language": "python",
   "name": "python3"
  },
  "language_info": {
   "codemirror_mode": {
    "name": "ipython",
    "version": 3
   },
   "file_extension": ".py",
   "mimetype": "text/x-python",
   "name": "python",
   "nbconvert_exporter": "python",
   "pygments_lexer": "ipython3",
   "version": "3.7.12"
  },
  "papermill": {
   "default_parameters": {},
   "duration": 10.741218,
   "end_time": "2023-02-07T15:04:32.305610",
   "environment_variables": {},
   "exception": null,
   "input_path": "__notebook__.ipynb",
   "output_path": "__notebook__.ipynb",
   "parameters": {},
   "start_time": "2023-02-07T15:04:21.564392",
   "version": "2.3.4"
  }
 },
 "nbformat": 4,
 "nbformat_minor": 5
}
