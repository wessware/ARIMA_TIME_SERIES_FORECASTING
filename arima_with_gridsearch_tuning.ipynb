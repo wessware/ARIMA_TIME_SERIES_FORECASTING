{
 "cells": [
  {
   "cell_type": "code",
   "execution_count": 1,
   "metadata": {},
   "outputs": [
    {
     "data": {
      "text/plain": [
       "'\\nTo avoid a lot of noise from running the model, we ignore warnings for this model.\\n\\nThis is because the ARIMA procedure uses internal optimizations to find a set of coefficients for the\\nmodel - this might result in an exception since we are using a grid search.\\n'"
      ]
     },
     "execution_count": 1,
     "metadata": {},
     "output_type": "execute_result"
    }
   ],
   "source": [
    "\"\"\"\n",
    "To avoid a lot of noise from running the model, we ignore warnings for this model.\n",
    "\n",
    "This is because the ARIMA procedure uses internal optimizations to find a set of coefficients for the\n",
    "model - this might result in an exception since we are using a grid search.\n",
    "\"\"\""
   ]
  },
  {
   "cell_type": "code",
   "execution_count": 2,
   "metadata": {},
   "outputs": [
    {
     "name": "stderr",
     "output_type": "stream",
     "text": [
      "<ipython-input-2-1190da9f4589>:4: FutureWarning: The pandas.datetime class is deprecated and will be removed from pandas in a future version. Import from datetime module instead.\n",
      "  from pandas import datetime\n"
     ]
    }
   ],
   "source": [
    "import warnings\n",
    "from math import sqrt\n",
    "from pandas import read_csv\n",
    "from pandas import datetime\n",
    "from statsmodels.tsa.arima.model import ARIMA\n",
    "from sklearn.metrics import mean_squared_error\n",
    "from matplotlib import pyplot"
   ]
  },
  {
   "cell_type": "code",
   "execution_count": 3,
   "metadata": {},
   "outputs": [],
   "source": [
    "warnings.filterwarnings('ignore')"
   ]
  },
  {
   "cell_type": "code",
   "execution_count": 4,
   "metadata": {},
   "outputs": [],
   "source": [
    "def evaluate_ARIMA(X, arima_order):\n",
    "    #preparing the training set\n",
    "    train_size = int(len(X) * 0.66)\n",
    "    train, test = X[:train_size], X[train_size:]\n",
    "    history = [x for x in train]\n",
    "    #making predictions using the model\n",
    "    predictions = list()\n",
    "    for t in range(len(test)):\n",
    "        model = ARIMA(history, order=arima_order)\n",
    "        model_fit = model.fit()\n",
    "        yhat = model_fit.forecast() [0]\n",
    "        predictions.append(yhat)\n",
    "        history.append(test[t])\n",
    "     #calculating the out-of-sample error   \n",
    "    rmse = sqrt(mean_squared_error(test, predictions))\n",
    "    pyplot.plot(test)\n",
    "    pyplot.plot(predictions, color ='red')\n",
    "    pyplot.show()\n",
    "    \n",
    "    return rmse"
   ]
  },
  {
   "cell_type": "code",
   "execution_count": 5,
   "metadata": {},
   "outputs": [],
   "source": [
    "#passing different values for the model's parameters\n",
    "def evaluate_models(dataset, p_values, d_values, q_values):\n",
    "    dataset = dataset.astype('float32')\n",
    "    best_score, best_cfg = float('inf'), None\n",
    "    for p in p_values:\n",
    "        for d in d_values:\n",
    "            for q in q_values:\n",
    "                order = (p,d,q)\n",
    "                try:\n",
    "                    rmse =evaluate_ARIMA(dataset, order)\n",
    "                    if rmse < best_score:\n",
    "                        best_score, best_cfg = rmse, order\n",
    "                    print('ARIMA%s RMSE=%.3f' % (order, rmse))\n",
    "                except:\n",
    "                    continue\n",
    "    print('Best ARIMA%s RMSE=%.3f' % (best_cfg, best_score))\n",
    "    \n",
    "    "
   ]
  },
  {
   "cell_type": "code",
   "execution_count": 6,
   "metadata": {},
   "outputs": [],
   "source": [
    "#loading the dataset\n",
    "def parser(x):\n",
    "    return datetime.strptime('190'+x, '%Y-%m')\n",
    "series = read_csv('arimats.csv', header=0, index_col=0, parse_dates=True, squeeze=True, date_parser=parser)\n"
   ]
  },
  {
   "cell_type": "code",
   "execution_count": 7,
   "metadata": {},
   "outputs": [],
   "source": [
    "#evaluate different parameters\n",
    "p_values = [0, 1, 2, 4, 6, 8, 10]\n",
    "d_values = range(0, 3)\n",
    "q_values = range(0, 3)"
   ]
  },
  {
   "cell_type": "code",
   "execution_count": 8,
   "metadata": {},
   "outputs": [
    {
     "name": "stdout",
     "output_type": "stream",
     "text": [
      "ARIMA(0, 0, 0) RMSE=228.966\n",
      "ARIMA(0, 0, 1) RMSE=195.596\n",
      "ARIMA(0, 0, 2) RMSE=154.886\n",
      "ARIMA(0, 1, 0) RMSE=133.156\n",
      "ARIMA(0, 1, 1) RMSE=104.077\n",
      "ARIMA(0, 1, 2) RMSE=68.345\n",
      "ARIMA(0, 2, 0) RMSE=255.187\n",
      "ARIMA(0, 2, 1) RMSE=134.168\n",
      "ARIMA(0, 2, 2) RMSE=74.643\n",
      "ARIMA(1, 0, 0) RMSE=152.028\n",
      "ARIMA(1, 0, 1) RMSE=111.787\n",
      "ARIMA(1, 0, 2) RMSE=76.999\n",
      "ARIMA(1, 1, 0) RMSE=88.631\n",
      "ARIMA(1, 1, 1) RMSE=87.942\n",
      "ARIMA(1, 1, 2) RMSE=90.986\n",
      "ARIMA(1, 2, 0) RMSE=134.576\n",
      "ARIMA(1, 2, 1) RMSE=86.157\n",
      "ARIMA(1, 2, 2) RMSE=65.511\n",
      "ARIMA(2, 0, 0) RMSE=100.879\n",
      "ARIMA(2, 0, 1) RMSE=98.953\n",
      "ARIMA(2, 0, 2) RMSE=98.689\n",
      "ARIMA(2, 1, 0) RMSE=85.063\n",
      "ARIMA(2, 1, 1) RMSE=88.428\n",
      "ARIMA(2, 1, 2) RMSE=83.498\n",
      "ARIMA(2, 2, 0) RMSE=97.829\n",
      "ARIMA(2, 2, 1) RMSE=76.846\n",
      "ARIMA(2, 2, 2) RMSE=80.808\n",
      "ARIMA(4, 0, 0) RMSE=100.975\n",
      "ARIMA(4, 0, 1) RMSE=101.566\n",
      "ARIMA(4, 0, 2) RMSE=97.438\n",
      "ARIMA(4, 1, 0) RMSE=95.068\n",
      "ARIMA(4, 1, 1) RMSE=84.818\n",
      "ARIMA(4, 1, 2) RMSE=84.205\n",
      "ARIMA(4, 2, 0) RMSE=85.397\n",
      "ARIMA(4, 2, 1) RMSE=74.219\n",
      "ARIMA(4, 2, 2) RMSE=70.141\n",
      "ARIMA(6, 0, 0) RMSE=95.996\n",
      "ARIMA(6, 0, 1) RMSE=85.190\n",
      "ARIMA(6, 0, 2) RMSE=95.844\n",
      "ARIMA(6, 1, 0) RMSE=84.633\n",
      "ARIMA(6, 1, 1) RMSE=78.365\n",
      "ARIMA(6, 1, 2) RMSE=73.792\n",
      "ARIMA(6, 2, 0) RMSE=77.305\n",
      "ARIMA(6, 2, 1) RMSE=77.721\n",
      "ARIMA(6, 2, 2) RMSE=82.028\n",
      "ARIMA(8, 0, 0) RMSE=88.506\n",
      "ARIMA(8, 0, 1) RMSE=94.710\n",
      "ARIMA(8, 0, 2) RMSE=100.558\n",
      "ARIMA(8, 1, 0) RMSE=79.987\n",
      "ARIMA(8, 1, 1) RMSE=79.961\n",
      "ARIMA(8, 1, 2) RMSE=76.199\n",
      "ARIMA(8, 2, 0) RMSE=81.882\n",
      "ARIMA(8, 2, 1) RMSE=83.655\n",
      "ARIMA(8, 2, 2) RMSE=90.365\n",
      "ARIMA(10, 0, 0) RMSE=90.881\n",
      "ARIMA(10, 0, 1) RMSE=91.825\n",
      "ARIMA(10, 0, 2) RMSE=97.041\n",
      "ARIMA(10, 1, 0) RMSE=84.839\n",
      "ARIMA(10, 1, 1) RMSE=84.964\n",
      "ARIMA(10, 1, 2) RMSE=78.170\n",
      "ARIMA(10, 2, 0) RMSE=85.026\n",
      "ARIMA(10, 2, 1) RMSE=75.660\n",
      "ARIMA(10, 2, 2) RMSE=73.188\n",
      "Best ARIMA(1, 2, 2) RMSE=65.511\n"
     ]
    },
    {
     "data": {
      "image/png": "[encoded data removed]",
      "text/plain": [
       "<Figure size 432x288 with 1 Axes>"
      ]
     },
     "metadata": {
      "needs_background": "light"
     },
     "output_type": "display_data"
    }
   ],
   "source": [
    "evaluate_models(series.values, p_values, d_values, q_values)"
   ]
  }
 ],
 "metadata": {
  "interpreter": {
   "hash": "13f38cf28d818ed05ed31d9d4f5b20000160d246f2c83cb873de1fcaec656d23"
  },
  "kernelspec": {
   "display_name": "Python 3.9.10 64-bit (windows store)",
   "language": "python",
   "name": "python3"
  },
  "language_info": {
   "codemirror_mode": {
    "name": "ipython",
    "version": 3
   },
   "file_extension": ".py",
   "mimetype": "text/x-python",
   "name": "python",
   "nbconvert_exporter": "python",
   "pygments_lexer": "ipython3",
   "version": "3.9.10"
  },
  "orig_nbformat": 4
 },
 "nbformat": 4,
 "nbformat_minor": 2
}
