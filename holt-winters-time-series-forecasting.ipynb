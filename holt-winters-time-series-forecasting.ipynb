{
 "cells": [
  {
   "cell_type": "code",
   "execution_count": 1,
   "id": "03824fbc",
   "metadata": {
    "_cell_guid": "b1076dfc-b9ad-4769-8c92-a6c4dae69d19",
    "_uuid": "8f2839f25d086af736a60e9eeb907d3b93b6e0e5",
    "execution": {
     "iopub.execute_input": "2023-02-08T17:38:43.508139Z",
     "iopub.status.busy": "2023-02-08T17:38:43.507239Z",
     "iopub.status.idle": "2023-02-08T17:38:44.623895Z",
     "shell.execute_reply": "2023-02-08T17:38:44.623008Z"
    },
    "papermill": {
     "duration": 1.125928,
     "end_time": "2023-02-08T17:38:44.626603",
     "exception": false,
     "start_time": "2023-02-08T17:38:43.500675",
     "status": "completed"
    },
    "tags": []
   },
   "outputs": [],
   "source": [
    "import pandas as pd \n",
    "import seaborn as sns\n",
    "import matplotlib\n",
    "\n",
    "from statsmodels.tsa.holtwinters import ExponentialSmoothing"
   ]
  },
  {
   "cell_type": "code",
   "execution_count": 2,
   "id": "b9bf02b2",
   "metadata": {
    "execution": {
     "iopub.execute_input": "2023-02-08T17:38:44.635339Z",
     "iopub.status.busy": "2023-02-08T17:38:44.634735Z",
     "iopub.status.idle": "2023-02-08T17:38:44.641052Z",
     "shell.execute_reply": "2023-02-08T17:38:44.640225Z"
    },
    "papermill": {
     "duration": 0.01327,
     "end_time": "2023-02-08T17:38:44.643391",
     "exception": false,
     "start_time": "2023-02-08T17:38:44.630121",
     "status": "completed"
    },
    "tags": []
   },
   "outputs": [],
   "source": [
    "pd.set_option('display.max_columns', None)\n",
    "pd.set_option('display.max_rows', 150)\n",
    "sns.set_style('darkgrid')\n",
    "matplotlib.rcParams['font.size'] = 14\n",
    "matplotlib.rcParams['figure.figsize'] = (10, 6)\n",
    "matplotlib.rcParams['figure.facecolor'] = '#000000'"
   ]
  },
  {
   "cell_type": "code",
   "execution_count": 3,
   "id": "7e2d95ed",
   "metadata": {
    "execution": {
     "iopub.execute_input": "2023-02-08T17:38:44.651469Z",
     "iopub.status.busy": "2023-02-08T17:38:44.651059Z",
     "iopub.status.idle": "2023-02-08T17:38:44.706656Z",
     "shell.execute_reply": "2023-02-08T17:38:44.705717Z"
    },
    "papermill": {
     "duration": 0.06279,
     "end_time": "2023-02-08T17:38:44.709473",
     "exception": false,
     "start_time": "2023-02-08T17:38:44.646683",
     "status": "completed"
    },
    "tags": []
   },
   "outputs": [],
   "source": [
    "df = pd.read_csv('/kaggle/input/case-ih-time-series-data/data.csv', index_col=['date'], parse_dates=['date'])"
   ]
  },
  {
   "cell_type": "code",
   "execution_count": 4,
   "id": "64e116e4",
   "metadata": {
    "execution": {
     "iopub.execute_input": "2023-02-08T17:38:44.717548Z",
     "iopub.status.busy": "2023-02-08T17:38:44.717121Z",
     "iopub.status.idle": "2023-02-08T17:38:44.734879Z",
     "shell.execute_reply": "2023-02-08T17:38:44.733677Z"
    },
    "papermill": {
     "duration": 0.024756,
     "end_time": "2023-02-08T17:38:44.737561",
     "exception": false,
     "start_time": "2023-02-08T17:38:44.712805",
     "status": "completed"
    },
    "tags": []
   },
   "outputs": [
    {
     "data": {
      "text/html": [
       "<div>\n",
       "<style scoped>\n",
       "    .dataframe tbody tr th:only-of-type {\n",
       "        vertical-align: middle;\n",
       "    }\n",
       "\n",
       "    .dataframe tbody tr th {\n",
       "        vertical-align: top;\n",
       "    }\n",
       "\n",
       "    .dataframe thead th {\n",
       "        text-align: right;\n",
       "    }\n",
       "</style>\n",
       "<table border=\"1\" class=\"dataframe\">\n",
       "  <thead>\n",
       "    <tr style=\"text-align: right;\">\n",
       "      <th></th>\n",
       "      <th>work</th>\n",
       "      <th>income</th>\n",
       "    </tr>\n",
       "    <tr>\n",
       "      <th>date</th>\n",
       "      <th></th>\n",
       "      <th></th>\n",
       "    </tr>\n",
       "  </thead>\n",
       "  <tbody>\n",
       "    <tr>\n",
       "      <th>2021-09-30</th>\n",
       "      <td>2</td>\n",
       "      <td>2100</td>\n",
       "    </tr>\n",
       "    <tr>\n",
       "      <th>2021-10-03</th>\n",
       "      <td>1</td>\n",
       "      <td>3600</td>\n",
       "    </tr>\n",
       "    <tr>\n",
       "      <th>2021-10-04</th>\n",
       "      <td>1</td>\n",
       "      <td>4000</td>\n",
       "    </tr>\n",
       "    <tr>\n",
       "      <th>2021-10-05</th>\n",
       "      <td>1</td>\n",
       "      <td>7900</td>\n",
       "    </tr>\n",
       "    <tr>\n",
       "      <th>2021-10-06</th>\n",
       "      <td>1</td>\n",
       "      <td>7500</td>\n",
       "    </tr>\n",
       "  </tbody>\n",
       "</table>\n",
       "</div>"
      ],
      "text/plain": [
       "            work  income\n",
       "date                    \n",
       "2021-09-30     2    2100\n",
       "2021-10-03     1    3600\n",
       "2021-10-04     1    4000\n",
       "2021-10-05     1    7900\n",
       "2021-10-06     1    7500"
      ]
     },
     "execution_count": 4,
     "metadata": {},
     "output_type": "execute_result"
    }
   ],
   "source": [
    "df.head()"
   ]
  },
  {
   "cell_type": "code",
   "execution_count": 5,
   "id": "1ca4f6cd",
   "metadata": {
    "execution": {
     "iopub.execute_input": "2023-02-08T17:38:44.746731Z",
     "iopub.status.busy": "2023-02-08T17:38:44.745694Z",
     "iopub.status.idle": "2023-02-08T17:38:44.752064Z",
     "shell.execute_reply": "2023-02-08T17:38:44.750972Z"
    },
    "papermill": {
     "duration": 0.013358,
     "end_time": "2023-02-08T17:38:44.754406",
     "exception": false,
     "start_time": "2023-02-08T17:38:44.741048",
     "status": "completed"
    },
    "tags": []
   },
   "outputs": [],
   "source": [
    "series = df[['income']]"
   ]
  },
  {
   "cell_type": "code",
   "execution_count": 6,
   "id": "b27ac05b",
   "metadata": {
    "execution": {
     "iopub.execute_input": "2023-02-08T17:38:44.763185Z",
     "iopub.status.busy": "2023-02-08T17:38:44.762388Z",
     "iopub.status.idle": "2023-02-08T17:38:44.772808Z",
     "shell.execute_reply": "2023-02-08T17:38:44.771545Z"
    },
    "papermill": {
     "duration": 0.017128,
     "end_time": "2023-02-08T17:38:44.774976",
     "exception": false,
     "start_time": "2023-02-08T17:38:44.757848",
     "status": "completed"
    },
    "tags": []
   },
   "outputs": [
    {
     "data": {
      "text/html": [
       "<div>\n",
       "<style scoped>\n",
       "    .dataframe tbody tr th:only-of-type {\n",
       "        vertical-align: middle;\n",
       "    }\n",
       "\n",
       "    .dataframe tbody tr th {\n",
       "        vertical-align: top;\n",
       "    }\n",
       "\n",
       "    .dataframe thead th {\n",
       "        text-align: right;\n",
       "    }\n",
       "</style>\n",
       "<table border=\"1\" class=\"dataframe\">\n",
       "  <thead>\n",
       "    <tr style=\"text-align: right;\">\n",
       "      <th></th>\n",
       "      <th>income</th>\n",
       "    </tr>\n",
       "    <tr>\n",
       "      <th>date</th>\n",
       "      <th></th>\n",
       "    </tr>\n",
       "  </thead>\n",
       "  <tbody>\n",
       "    <tr>\n",
       "      <th>2021-09-30</th>\n",
       "      <td>2100</td>\n",
       "    </tr>\n",
       "    <tr>\n",
       "      <th>2021-10-03</th>\n",
       "      <td>3600</td>\n",
       "    </tr>\n",
       "    <tr>\n",
       "      <th>2021-10-04</th>\n",
       "      <td>4000</td>\n",
       "    </tr>\n",
       "    <tr>\n",
       "      <th>2021-10-05</th>\n",
       "      <td>7900</td>\n",
       "    </tr>\n",
       "    <tr>\n",
       "      <th>2021-10-06</th>\n",
       "      <td>7500</td>\n",
       "    </tr>\n",
       "  </tbody>\n",
       "</table>\n",
       "</div>"
      ],
      "text/plain": [
       "            income\n",
       "date              \n",
       "2021-09-30    2100\n",
       "2021-10-03    3600\n",
       "2021-10-04    4000\n",
       "2021-10-05    7900\n",
       "2021-10-06    7500"
      ]
     },
     "execution_count": 6,
     "metadata": {},
     "output_type": "execute_result"
    }
   ],
   "source": [
    "series.head()"
   ]
  },
  {
   "cell_type": "code",
   "execution_count": 7,
   "id": "3de6046a",
   "metadata": {
    "execution": {
     "iopub.execute_input": "2023-02-08T17:38:44.784076Z",
     "iopub.status.busy": "2023-02-08T17:38:44.783128Z",
     "iopub.status.idle": "2023-02-08T17:38:44.814544Z",
     "shell.execute_reply": "2023-02-08T17:38:44.813379Z"
    },
    "papermill": {
     "duration": 0.038046,
     "end_time": "2023-02-08T17:38:44.816628",
     "exception": false,
     "start_time": "2023-02-08T17:38:44.778582",
     "status": "completed"
    },
    "tags": []
   },
   "outputs": [
    {
     "name": "stderr",
     "output_type": "stream",
     "text": [
      "/opt/conda/lib/python3.7/site-packages/ipykernel_launcher.py:5: FutureWarning: the 'damped'' keyword is deprecated, use 'damped_trend' instead\n",
      "  \"\"\"\n",
      "/opt/conda/lib/python3.7/site-packages/statsmodels/tsa/base/tsa_model.py:471: ValueWarning: A date index has been provided, but it has no associated frequency information and so will be ignored when e.g. forecasting.\n",
      "  self._init_dates(dates, freq)\n"
     ]
    }
   ],
   "source": [
    "model = ExponentialSmoothing(series,\n",
    "                             trend=\"add\", \n",
    "                             seasonal=\"add\", \n",
    "                             seasonal_periods=12, \n",
    "                             damped=True)"
   ]
  },
  {
   "cell_type": "code",
   "execution_count": 8,
   "id": "5658f5a1",
   "metadata": {
    "execution": {
     "iopub.execute_input": "2023-02-08T17:38:44.825897Z",
     "iopub.status.busy": "2023-02-08T17:38:44.824890Z",
     "iopub.status.idle": "2023-02-08T17:38:44.934430Z",
     "shell.execute_reply": "2023-02-08T17:38:44.933048Z"
    },
    "papermill": {
     "duration": 0.116531,
     "end_time": "2023-02-08T17:38:44.936822",
     "exception": false,
     "start_time": "2023-02-08T17:38:44.820291",
     "status": "completed"
    },
    "tags": []
   },
   "outputs": [
    {
     "name": "stderr",
     "output_type": "stream",
     "text": [
      "/opt/conda/lib/python3.7/site-packages/statsmodels/tsa/holtwinters/model.py:917: ConvergenceWarning: Optimization failed to converge. Check mle_retvals.\n",
      "  ConvergenceWarning,\n"
     ]
    }
   ],
   "source": [
    "model_fit = model.fit()"
   ]
  },
  {
   "cell_type": "code",
   "execution_count": 9,
   "id": "d0aa8d79",
   "metadata": {
    "execution": {
     "iopub.execute_input": "2023-02-08T17:38:44.946318Z",
     "iopub.status.busy": "2023-02-08T17:38:44.945617Z",
     "iopub.status.idle": "2023-02-08T17:38:44.955938Z",
     "shell.execute_reply": "2023-02-08T17:38:44.954912Z"
    },
    "papermill": {
     "duration": 0.018308,
     "end_time": "2023-02-08T17:38:44.958849",
     "exception": false,
     "start_time": "2023-02-08T17:38:44.940541",
     "status": "completed"
    },
    "tags": []
   },
   "outputs": [
    {
     "name": "stderr",
     "output_type": "stream",
     "text": [
      "/opt/conda/lib/python3.7/site-packages/statsmodels/tsa/base/tsa_model.py:843: ValueWarning: No supported index is available. Prediction results will be given with an integer index beginning at `start`.\n",
      "  data=self.data,\n"
     ]
    }
   ],
   "source": [
    "yhat = model_fit.predict(len(series), len(series))"
   ]
  },
  {
   "cell_type": "code",
   "execution_count": null,
   "id": "47378fbc",
   "metadata": {
    "papermill": {
     "duration": 0.003341,
     "end_time": "2023-02-08T17:38:44.965947",
     "exception": false,
     "start_time": "2023-02-08T17:38:44.962606",
     "status": "completed"
    },
    "tags": []
   },
   "outputs": [],
   "source": []
  }
 ],
 "metadata": {
  "kernelspec": {
   "display_name": "Python 3",
   "language": "python",
   "name": "python3"
  },
  "language_info": {
   "codemirror_mode": {
    "name": "ipython",
    "version": 3
   },
   "file_extension": ".py",
   "mimetype": "text/x-python",
   "name": "python",
   "nbconvert_exporter": "python",
   "pygments_lexer": "ipython3",
   "version": "3.7.12"
  },
  "papermill": {
   "default_parameters": {},
   "duration": 10.495968,
   "end_time": "2023-02-08T17:38:45.691961",
   "environment_variables": {},
   "exception": null,
   "input_path": "__notebook__.ipynb",
   "output_path": "__notebook__.ipynb",
   "parameters": {},
   "start_time": "2023-02-08T17:38:35.195993",
   "version": "2.3.4"
  }
 },
 "nbformat": 4,
 "nbformat_minor": 5
}
