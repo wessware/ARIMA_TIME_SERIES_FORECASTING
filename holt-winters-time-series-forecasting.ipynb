{
 "cells": [
  {
   "cell_type": "code",
   "execution_count": 1,
   "id": "23522eac",
   "metadata": {
    "_cell_guid": "b1076dfc-b9ad-4769-8c92-a6c4dae69d19",
    "_uuid": "8f2839f25d086af736a60e9eeb907d3b93b6e0e5",
    "execution": {
     "iopub.execute_input": "2023-02-08T17:33:34.137760Z",
     "iopub.status.busy": "2023-02-08T17:33:34.136823Z",
     "iopub.status.idle": "2023-02-08T17:33:35.342311Z",
     "shell.execute_reply": "2023-02-08T17:33:35.341513Z"
    },
    "papermill": {
     "duration": 1.213509,
     "end_time": "2023-02-08T17:33:35.345092",
     "exception": false,
     "start_time": "2023-02-08T17:33:34.131583",
     "status": "completed"
    },
    "tags": []
   },
   "outputs": [],
   "source": [
    "import pandas as pd \n",
    "import seaborn as sns\n",
    "import matplotlib\n",
    "\n",
    "from statsmodels.tsa.holtwinters import ExponentialSmoothing"
   ]
  },
  {
   "cell_type": "code",
   "execution_count": 2,
   "id": "682c6003",
   "metadata": {
    "execution": {
     "iopub.execute_input": "2023-02-08T17:33:35.351849Z",
     "iopub.status.busy": "2023-02-08T17:33:35.351184Z",
     "iopub.status.idle": "2023-02-08T17:33:35.357261Z",
     "shell.execute_reply": "2023-02-08T17:33:35.356486Z"
    },
    "papermill": {
     "duration": 0.011787,
     "end_time": "2023-02-08T17:33:35.359422",
     "exception": false,
     "start_time": "2023-02-08T17:33:35.347635",
     "status": "completed"
    },
    "tags": []
   },
   "outputs": [],
   "source": [
    "pd.set_option('display.max_columns', None)\n",
    "pd.set_option('display.max_rows', 150)\n",
    "sns.set_style('darkgrid')\n",
    "matplotlib.rcParams['font.size'] = 14\n",
    "matplotlib.rcParams['figure.figsize'] = (10, 6)\n",
    "matplotlib.rcParams['figure.facecolor'] = '#000000'"
   ]
  },
  {
   "cell_type": "code",
   "execution_count": 3,
   "id": "90e51af9",
   "metadata": {
    "execution": {
     "iopub.execute_input": "2023-02-08T17:33:35.365230Z",
     "iopub.status.busy": "2023-02-08T17:33:35.364902Z",
     "iopub.status.idle": "2023-02-08T17:33:35.417175Z",
     "shell.execute_reply": "2023-02-08T17:33:35.416136Z"
    },
    "papermill": {
     "duration": 0.058045,
     "end_time": "2023-02-08T17:33:35.419758",
     "exception": false,
     "start_time": "2023-02-08T17:33:35.361713",
     "status": "completed"
    },
    "tags": []
   },
   "outputs": [],
   "source": [
    "df = pd.read_csv('/kaggle/input/case-ih-time-series-data/data.csv', index_col=['date'], parse_dates=['date'])"
   ]
  },
  {
   "cell_type": "code",
   "execution_count": 4,
   "id": "5103e802",
   "metadata": {
    "execution": {
     "iopub.execute_input": "2023-02-08T17:33:35.425817Z",
     "iopub.status.busy": "2023-02-08T17:33:35.425394Z",
     "iopub.status.idle": "2023-02-08T17:33:35.443816Z",
     "shell.execute_reply": "2023-02-08T17:33:35.442619Z"
    },
    "papermill": {
     "duration": 0.024334,
     "end_time": "2023-02-08T17:33:35.446505",
     "exception": false,
     "start_time": "2023-02-08T17:33:35.422171",
     "status": "completed"
    },
    "tags": []
   },
   "outputs": [
    {
     "data": {
      "text/html": [
       "<div>\n",
       "<style scoped>\n",
       "    .dataframe tbody tr th:only-of-type {\n",
       "        vertical-align: middle;\n",
       "    }\n",
       "\n",
       "    .dataframe tbody tr th {\n",
       "        vertical-align: top;\n",
       "    }\n",
       "\n",
       "    .dataframe thead th {\n",
       "        text-align: right;\n",
       "    }\n",
       "</style>\n",
       "<table border=\"1\" class=\"dataframe\">\n",
       "  <thead>\n",
       "    <tr style=\"text-align: right;\">\n",
       "      <th></th>\n",
       "      <th>work</th>\n",
       "      <th>income</th>\n",
       "    </tr>\n",
       "    <tr>\n",
       "      <th>date</th>\n",
       "      <th></th>\n",
       "      <th></th>\n",
       "    </tr>\n",
       "  </thead>\n",
       "  <tbody>\n",
       "    <tr>\n",
       "      <th>2021-09-30</th>\n",
       "      <td>2</td>\n",
       "      <td>2100</td>\n",
       "    </tr>\n",
       "    <tr>\n",
       "      <th>2021-10-03</th>\n",
       "      <td>1</td>\n",
       "      <td>3600</td>\n",
       "    </tr>\n",
       "    <tr>\n",
       "      <th>2021-10-04</th>\n",
       "      <td>1</td>\n",
       "      <td>4000</td>\n",
       "    </tr>\n",
       "    <tr>\n",
       "      <th>2021-10-05</th>\n",
       "      <td>1</td>\n",
       "      <td>7900</td>\n",
       "    </tr>\n",
       "    <tr>\n",
       "      <th>2021-10-06</th>\n",
       "      <td>1</td>\n",
       "      <td>7500</td>\n",
       "    </tr>\n",
       "  </tbody>\n",
       "</table>\n",
       "</div>"
      ],
      "text/plain": [
       "            work  income\n",
       "date                    \n",
       "2021-09-30     2    2100\n",
       "2021-10-03     1    3600\n",
       "2021-10-04     1    4000\n",
       "2021-10-05     1    7900\n",
       "2021-10-06     1    7500"
      ]
     },
     "execution_count": 4,
     "metadata": {},
     "output_type": "execute_result"
    }
   ],
   "source": [
    "df.head()"
   ]
  },
  {
   "cell_type": "code",
   "execution_count": null,
   "id": "fa4a807d",
   "metadata": {
    "papermill": {
     "duration": 0.002188,
     "end_time": "2023-02-08T17:33:35.451234",
     "exception": false,
     "start_time": "2023-02-08T17:33:35.449046",
     "status": "completed"
    },
    "tags": []
   },
   "outputs": [],
   "source": []
  }
 ],
 "metadata": {
  "kernelspec": {
   "display_name": "Python 3",
   "language": "python",
   "name": "python3"
  },
  "language_info": {
   "codemirror_mode": {
    "name": "ipython",
    "version": 3
   },
   "file_extension": ".py",
   "mimetype": "text/x-python",
   "name": "python",
   "nbconvert_exporter": "python",
   "pygments_lexer": "ipython3",
   "version": "3.7.12"
  },
  "papermill": {
   "default_parameters": {},
   "duration": 10.117597,
   "end_time": "2023-02-08T17:33:36.174751",
   "environment_variables": {},
   "exception": null,
   "input_path": "__notebook__.ipynb",
   "output_path": "__notebook__.ipynb",
   "parameters": {},
   "start_time": "2023-02-08T17:33:26.057154",
   "version": "2.3.4"
  }
 },
 "nbformat": 4,
 "nbformat_minor": 5
}
