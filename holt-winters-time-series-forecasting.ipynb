{
 "cells": [
  {
   "cell_type": "code",
   "execution_count": 1,
   "id": "b89a427d",
   "metadata": {
    "_cell_guid": "b1076dfc-b9ad-4769-8c92-a6c4dae69d19",
    "_uuid": "8f2839f25d086af736a60e9eeb907d3b93b6e0e5",
    "execution": {
     "iopub.execute_input": "2023-02-08T17:37:15.026056Z",
     "iopub.status.busy": "2023-02-08T17:37:15.025336Z",
     "iopub.status.idle": "2023-02-08T17:37:16.396706Z",
     "shell.execute_reply": "2023-02-08T17:37:16.395472Z"
    },
    "papermill": {
     "duration": 1.381756,
     "end_time": "2023-02-08T17:37:16.399790",
     "exception": false,
     "start_time": "2023-02-08T17:37:15.018034",
     "status": "completed"
    },
    "tags": []
   },
   "outputs": [],
   "source": [
    "import pandas as pd \n",
    "import seaborn as sns\n",
    "import matplotlib\n",
    "\n",
    "from statsmodels.tsa.holtwinters import ExponentialSmoothing"
   ]
  },
  {
   "cell_type": "code",
   "execution_count": 2,
   "id": "503258b5",
   "metadata": {
    "execution": {
     "iopub.execute_input": "2023-02-08T17:37:16.407842Z",
     "iopub.status.busy": "2023-02-08T17:37:16.407406Z",
     "iopub.status.idle": "2023-02-08T17:37:16.413603Z",
     "shell.execute_reply": "2023-02-08T17:37:16.412649Z"
    },
    "papermill": {
     "duration": 0.01264,
     "end_time": "2023-02-08T17:37:16.415784",
     "exception": false,
     "start_time": "2023-02-08T17:37:16.403144",
     "status": "completed"
    },
    "tags": []
   },
   "outputs": [],
   "source": [
    "pd.set_option('display.max_columns', None)\n",
    "pd.set_option('display.max_rows', 150)\n",
    "sns.set_style('darkgrid')\n",
    "matplotlib.rcParams['font.size'] = 14\n",
    "matplotlib.rcParams['figure.figsize'] = (10, 6)\n",
    "matplotlib.rcParams['figure.facecolor'] = '#000000'"
   ]
  },
  {
   "cell_type": "code",
   "execution_count": 3,
   "id": "0502f7c3",
   "metadata": {
    "execution": {
     "iopub.execute_input": "2023-02-08T17:37:16.424384Z",
     "iopub.status.busy": "2023-02-08T17:37:16.423470Z",
     "iopub.status.idle": "2023-02-08T17:37:16.488555Z",
     "shell.execute_reply": "2023-02-08T17:37:16.486782Z"
    },
    "papermill": {
     "duration": 0.072561,
     "end_time": "2023-02-08T17:37:16.491571",
     "exception": false,
     "start_time": "2023-02-08T17:37:16.419010",
     "status": "completed"
    },
    "tags": []
   },
   "outputs": [],
   "source": [
    "df = pd.read_csv('/kaggle/input/case-ih-time-series-data/data.csv', index_col=['date'], parse_dates=['date'])"
   ]
  },
  {
   "cell_type": "code",
   "execution_count": 4,
   "id": "5878812c",
   "metadata": {
    "execution": {
     "iopub.execute_input": "2023-02-08T17:37:16.499603Z",
     "iopub.status.busy": "2023-02-08T17:37:16.499211Z",
     "iopub.status.idle": "2023-02-08T17:37:16.517097Z",
     "shell.execute_reply": "2023-02-08T17:37:16.515820Z"
    },
    "papermill": {
     "duration": 0.024947,
     "end_time": "2023-02-08T17:37:16.519642",
     "exception": false,
     "start_time": "2023-02-08T17:37:16.494695",
     "status": "completed"
    },
    "tags": []
   },
   "outputs": [
    {
     "data": {
      "text/html": [
       "<div>\n",
       "<style scoped>\n",
       "    .dataframe tbody tr th:only-of-type {\n",
       "        vertical-align: middle;\n",
       "    }\n",
       "\n",
       "    .dataframe tbody tr th {\n",
       "        vertical-align: top;\n",
       "    }\n",
       "\n",
       "    .dataframe thead th {\n",
       "        text-align: right;\n",
       "    }\n",
       "</style>\n",
       "<table border=\"1\" class=\"dataframe\">\n",
       "  <thead>\n",
       "    <tr style=\"text-align: right;\">\n",
       "      <th></th>\n",
       "      <th>work</th>\n",
       "      <th>income</th>\n",
       "    </tr>\n",
       "    <tr>\n",
       "      <th>date</th>\n",
       "      <th></th>\n",
       "      <th></th>\n",
       "    </tr>\n",
       "  </thead>\n",
       "  <tbody>\n",
       "    <tr>\n",
       "      <th>2021-09-30</th>\n",
       "      <td>2</td>\n",
       "      <td>2100</td>\n",
       "    </tr>\n",
       "    <tr>\n",
       "      <th>2021-10-03</th>\n",
       "      <td>1</td>\n",
       "      <td>3600</td>\n",
       "    </tr>\n",
       "    <tr>\n",
       "      <th>2021-10-04</th>\n",
       "      <td>1</td>\n",
       "      <td>4000</td>\n",
       "    </tr>\n",
       "    <tr>\n",
       "      <th>2021-10-05</th>\n",
       "      <td>1</td>\n",
       "      <td>7900</td>\n",
       "    </tr>\n",
       "    <tr>\n",
       "      <th>2021-10-06</th>\n",
       "      <td>1</td>\n",
       "      <td>7500</td>\n",
       "    </tr>\n",
       "  </tbody>\n",
       "</table>\n",
       "</div>"
      ],
      "text/plain": [
       "            work  income\n",
       "date                    \n",
       "2021-09-30     2    2100\n",
       "2021-10-03     1    3600\n",
       "2021-10-04     1    4000\n",
       "2021-10-05     1    7900\n",
       "2021-10-06     1    7500"
      ]
     },
     "execution_count": 4,
     "metadata": {},
     "output_type": "execute_result"
    }
   ],
   "source": [
    "df.head()"
   ]
  },
  {
   "cell_type": "code",
   "execution_count": 5,
   "id": "e6664429",
   "metadata": {
    "execution": {
     "iopub.execute_input": "2023-02-08T17:37:16.528482Z",
     "iopub.status.busy": "2023-02-08T17:37:16.527594Z",
     "iopub.status.idle": "2023-02-08T17:37:16.534473Z",
     "shell.execute_reply": "2023-02-08T17:37:16.533238Z"
    },
    "papermill": {
     "duration": 0.014012,
     "end_time": "2023-02-08T17:37:16.537100",
     "exception": false,
     "start_time": "2023-02-08T17:37:16.523088",
     "status": "completed"
    },
    "tags": []
   },
   "outputs": [],
   "source": [
    "series = df[['income']]"
   ]
  },
  {
   "cell_type": "code",
   "execution_count": 6,
   "id": "e0156dc0",
   "metadata": {
    "execution": {
     "iopub.execute_input": "2023-02-08T17:37:16.546195Z",
     "iopub.status.busy": "2023-02-08T17:37:16.545079Z",
     "iopub.status.idle": "2023-02-08T17:37:16.556636Z",
     "shell.execute_reply": "2023-02-08T17:37:16.555567Z"
    },
    "papermill": {
     "duration": 0.018417,
     "end_time": "2023-02-08T17:37:16.558830",
     "exception": false,
     "start_time": "2023-02-08T17:37:16.540413",
     "status": "completed"
    },
    "tags": []
   },
   "outputs": [
    {
     "data": {
      "text/html": [
       "<div>\n",
       "<style scoped>\n",
       "    .dataframe tbody tr th:only-of-type {\n",
       "        vertical-align: middle;\n",
       "    }\n",
       "\n",
       "    .dataframe tbody tr th {\n",
       "        vertical-align: top;\n",
       "    }\n",
       "\n",
       "    .dataframe thead th {\n",
       "        text-align: right;\n",
       "    }\n",
       "</style>\n",
       "<table border=\"1\" class=\"dataframe\">\n",
       "  <thead>\n",
       "    <tr style=\"text-align: right;\">\n",
       "      <th></th>\n",
       "      <th>income</th>\n",
       "    </tr>\n",
       "    <tr>\n",
       "      <th>date</th>\n",
       "      <th></th>\n",
       "    </tr>\n",
       "  </thead>\n",
       "  <tbody>\n",
       "    <tr>\n",
       "      <th>2021-09-30</th>\n",
       "      <td>2100</td>\n",
       "    </tr>\n",
       "    <tr>\n",
       "      <th>2021-10-03</th>\n",
       "      <td>3600</td>\n",
       "    </tr>\n",
       "    <tr>\n",
       "      <th>2021-10-04</th>\n",
       "      <td>4000</td>\n",
       "    </tr>\n",
       "    <tr>\n",
       "      <th>2021-10-05</th>\n",
       "      <td>7900</td>\n",
       "    </tr>\n",
       "    <tr>\n",
       "      <th>2021-10-06</th>\n",
       "      <td>7500</td>\n",
       "    </tr>\n",
       "  </tbody>\n",
       "</table>\n",
       "</div>"
      ],
      "text/plain": [
       "            income\n",
       "date              \n",
       "2021-09-30    2100\n",
       "2021-10-03    3600\n",
       "2021-10-04    4000\n",
       "2021-10-05    7900\n",
       "2021-10-06    7500"
      ]
     },
     "execution_count": 6,
     "metadata": {},
     "output_type": "execute_result"
    }
   ],
   "source": [
    "series.head()"
   ]
  },
  {
   "cell_type": "code",
   "execution_count": 7,
   "id": "d26068db",
   "metadata": {
    "execution": {
     "iopub.execute_input": "2023-02-08T17:37:16.568389Z",
     "iopub.status.busy": "2023-02-08T17:37:16.568001Z",
     "iopub.status.idle": "2023-02-08T17:37:16.597479Z",
     "shell.execute_reply": "2023-02-08T17:37:16.595835Z"
    },
    "papermill": {
     "duration": 0.037212,
     "end_time": "2023-02-08T17:37:16.600233",
     "exception": false,
     "start_time": "2023-02-08T17:37:16.563021",
     "status": "completed"
    },
    "tags": []
   },
   "outputs": [
    {
     "name": "stderr",
     "output_type": "stream",
     "text": [
      "/opt/conda/lib/python3.7/site-packages/ipykernel_launcher.py:5: FutureWarning: the 'damped'' keyword is deprecated, use 'damped_trend' instead\n",
      "  \"\"\"\n",
      "/opt/conda/lib/python3.7/site-packages/statsmodels/tsa/base/tsa_model.py:471: ValueWarning: A date index has been provided, but it has no associated frequency information and so will be ignored when e.g. forecasting.\n",
      "  self._init_dates(dates, freq)\n"
     ]
    }
   ],
   "source": [
    "model = ExponentialSmoothing(series,\n",
    "                             trend=\"add\", \n",
    "                             seasonal=\"add\", \n",
    "                             seasonal_periods=12, \n",
    "                             damped=True)"
   ]
  },
  {
   "cell_type": "code",
   "execution_count": 8,
   "id": "2bc32acc",
   "metadata": {
    "execution": {
     "iopub.execute_input": "2023-02-08T17:37:16.609925Z",
     "iopub.status.busy": "2023-02-08T17:37:16.608658Z",
     "iopub.status.idle": "2023-02-08T17:37:16.721839Z",
     "shell.execute_reply": "2023-02-08T17:37:16.720483Z"
    },
    "papermill": {
     "duration": 0.120646,
     "end_time": "2023-02-08T17:37:16.724491",
     "exception": false,
     "start_time": "2023-02-08T17:37:16.603845",
     "status": "completed"
    },
    "tags": []
   },
   "outputs": [
    {
     "name": "stderr",
     "output_type": "stream",
     "text": [
      "/opt/conda/lib/python3.7/site-packages/statsmodels/tsa/holtwinters/model.py:917: ConvergenceWarning: Optimization failed to converge. Check mle_retvals.\n",
      "  ConvergenceWarning,\n"
     ]
    }
   ],
   "source": [
    "model_fit = model.fit()"
   ]
  },
  {
   "cell_type": "code",
   "execution_count": null,
   "id": "7bdca81b",
   "metadata": {
    "papermill": {
     "duration": 0.003185,
     "end_time": "2023-02-08T17:37:16.731356",
     "exception": false,
     "start_time": "2023-02-08T17:37:16.728171",
     "status": "completed"
    },
    "tags": []
   },
   "outputs": [],
   "source": []
  }
 ],
 "metadata": {
  "kernelspec": {
   "display_name": "Python 3",
   "language": "python",
   "name": "python3"
  },
  "language_info": {
   "codemirror_mode": {
    "name": "ipython",
    "version": 3
   },
   "file_extension": ".py",
   "mimetype": "text/x-python",
   "name": "python",
   "nbconvert_exporter": "python",
   "pygments_lexer": "ipython3",
   "version": "3.7.12"
  },
  "papermill": {
   "default_parameters": {},
   "duration": 11.826026,
   "end_time": "2023-02-08T17:37:17.658784",
   "environment_variables": {},
   "exception": null,
   "input_path": "__notebook__.ipynb",
   "output_path": "__notebook__.ipynb",
   "parameters": {},
   "start_time": "2023-02-08T17:37:05.832758",
   "version": "2.3.4"
  }
 },
 "nbformat": 4,
 "nbformat_minor": 5
}
