{
 "cells": [
  {
   "cell_type": "code",
   "execution_count": 1,
   "id": "44367536",
   "metadata": {
    "_cell_guid": "b1076dfc-b9ad-4769-8c92-a6c4dae69d19",
    "_uuid": "8f2839f25d086af736a60e9eeb907d3b93b6e0e5",
    "execution": {
     "iopub.execute_input": "2023-02-08T17:36:29.549113Z",
     "iopub.status.busy": "2023-02-08T17:36:29.546123Z",
     "iopub.status.idle": "2023-02-08T17:36:30.905058Z",
     "shell.execute_reply": "2023-02-08T17:36:30.904123Z"
    },
    "papermill": {
     "duration": 1.36768,
     "end_time": "2023-02-08T17:36:30.908019",
     "exception": false,
     "start_time": "2023-02-08T17:36:29.540339",
     "status": "completed"
    },
    "tags": []
   },
   "outputs": [],
   "source": [
    "import pandas as pd \n",
    "import seaborn as sns\n",
    "import matplotlib\n",
    "\n",
    "from statsmodels.tsa.holtwinters import ExponentialSmoothing"
   ]
  },
  {
   "cell_type": "code",
   "execution_count": 2,
   "id": "39765d41",
   "metadata": {
    "execution": {
     "iopub.execute_input": "2023-02-08T17:36:30.916553Z",
     "iopub.status.busy": "2023-02-08T17:36:30.915798Z",
     "iopub.status.idle": "2023-02-08T17:36:30.922383Z",
     "shell.execute_reply": "2023-02-08T17:36:30.921576Z"
    },
    "papermill": {
     "duration": 0.01354,
     "end_time": "2023-02-08T17:36:30.924838",
     "exception": false,
     "start_time": "2023-02-08T17:36:30.911298",
     "status": "completed"
    },
    "tags": []
   },
   "outputs": [],
   "source": [
    "pd.set_option('display.max_columns', None)\n",
    "pd.set_option('display.max_rows', 150)\n",
    "sns.set_style('darkgrid')\n",
    "matplotlib.rcParams['font.size'] = 14\n",
    "matplotlib.rcParams['figure.figsize'] = (10, 6)\n",
    "matplotlib.rcParams['figure.facecolor'] = '#000000'"
   ]
  },
  {
   "cell_type": "code",
   "execution_count": 3,
   "id": "55913e7c",
   "metadata": {
    "execution": {
     "iopub.execute_input": "2023-02-08T17:36:30.933116Z",
     "iopub.status.busy": "2023-02-08T17:36:30.932028Z",
     "iopub.status.idle": "2023-02-08T17:36:30.998107Z",
     "shell.execute_reply": "2023-02-08T17:36:30.996917Z"
    },
    "papermill": {
     "duration": 0.072942,
     "end_time": "2023-02-08T17:36:31.000809",
     "exception": false,
     "start_time": "2023-02-08T17:36:30.927867",
     "status": "completed"
    },
    "tags": []
   },
   "outputs": [],
   "source": [
    "df = pd.read_csv('/kaggle/input/case-ih-time-series-data/data.csv', index_col=['date'], parse_dates=['date'])"
   ]
  },
  {
   "cell_type": "code",
   "execution_count": 4,
   "id": "ab3af904",
   "metadata": {
    "execution": {
     "iopub.execute_input": "2023-02-08T17:36:31.008829Z",
     "iopub.status.busy": "2023-02-08T17:36:31.007908Z",
     "iopub.status.idle": "2023-02-08T17:36:31.025967Z",
     "shell.execute_reply": "2023-02-08T17:36:31.024685Z"
    },
    "papermill": {
     "duration": 0.025471,
     "end_time": "2023-02-08T17:36:31.029243",
     "exception": false,
     "start_time": "2023-02-08T17:36:31.003772",
     "status": "completed"
    },
    "tags": []
   },
   "outputs": [
    {
     "data": {
      "text/html": [
       "<div>\n",
       "<style scoped>\n",
       "    .dataframe tbody tr th:only-of-type {\n",
       "        vertical-align: middle;\n",
       "    }\n",
       "\n",
       "    .dataframe tbody tr th {\n",
       "        vertical-align: top;\n",
       "    }\n",
       "\n",
       "    .dataframe thead th {\n",
       "        text-align: right;\n",
       "    }\n",
       "</style>\n",
       "<table border=\"1\" class=\"dataframe\">\n",
       "  <thead>\n",
       "    <tr style=\"text-align: right;\">\n",
       "      <th></th>\n",
       "      <th>work</th>\n",
       "      <th>income</th>\n",
       "    </tr>\n",
       "    <tr>\n",
       "      <th>date</th>\n",
       "      <th></th>\n",
       "      <th></th>\n",
       "    </tr>\n",
       "  </thead>\n",
       "  <tbody>\n",
       "    <tr>\n",
       "      <th>2021-09-30</th>\n",
       "      <td>2</td>\n",
       "      <td>2100</td>\n",
       "    </tr>\n",
       "    <tr>\n",
       "      <th>2021-10-03</th>\n",
       "      <td>1</td>\n",
       "      <td>3600</td>\n",
       "    </tr>\n",
       "    <tr>\n",
       "      <th>2021-10-04</th>\n",
       "      <td>1</td>\n",
       "      <td>4000</td>\n",
       "    </tr>\n",
       "    <tr>\n",
       "      <th>2021-10-05</th>\n",
       "      <td>1</td>\n",
       "      <td>7900</td>\n",
       "    </tr>\n",
       "    <tr>\n",
       "      <th>2021-10-06</th>\n",
       "      <td>1</td>\n",
       "      <td>7500</td>\n",
       "    </tr>\n",
       "  </tbody>\n",
       "</table>\n",
       "</div>"
      ],
      "text/plain": [
       "            work  income\n",
       "date                    \n",
       "2021-09-30     2    2100\n",
       "2021-10-03     1    3600\n",
       "2021-10-04     1    4000\n",
       "2021-10-05     1    7900\n",
       "2021-10-06     1    7500"
      ]
     },
     "execution_count": 4,
     "metadata": {},
     "output_type": "execute_result"
    }
   ],
   "source": [
    "df.head()"
   ]
  },
  {
   "cell_type": "code",
   "execution_count": 5,
   "id": "88f1fd9a",
   "metadata": {
    "execution": {
     "iopub.execute_input": "2023-02-08T17:36:31.038361Z",
     "iopub.status.busy": "2023-02-08T17:36:31.037529Z",
     "iopub.status.idle": "2023-02-08T17:36:31.044145Z",
     "shell.execute_reply": "2023-02-08T17:36:31.043277Z"
    },
    "papermill": {
     "duration": 0.014303,
     "end_time": "2023-02-08T17:36:31.046824",
     "exception": false,
     "start_time": "2023-02-08T17:36:31.032521",
     "status": "completed"
    },
    "tags": []
   },
   "outputs": [],
   "source": [
    "series = df[['income']]"
   ]
  },
  {
   "cell_type": "code",
   "execution_count": 6,
   "id": "18ba1227",
   "metadata": {
    "execution": {
     "iopub.execute_input": "2023-02-08T17:36:31.055548Z",
     "iopub.status.busy": "2023-02-08T17:36:31.054755Z",
     "iopub.status.idle": "2023-02-08T17:36:31.066484Z",
     "shell.execute_reply": "2023-02-08T17:36:31.065085Z"
    },
    "papermill": {
     "duration": 0.01922,
     "end_time": "2023-02-08T17:36:31.069212",
     "exception": false,
     "start_time": "2023-02-08T17:36:31.049992",
     "status": "completed"
    },
    "tags": []
   },
   "outputs": [
    {
     "data": {
      "text/html": [
       "<div>\n",
       "<style scoped>\n",
       "    .dataframe tbody tr th:only-of-type {\n",
       "        vertical-align: middle;\n",
       "    }\n",
       "\n",
       "    .dataframe tbody tr th {\n",
       "        vertical-align: top;\n",
       "    }\n",
       "\n",
       "    .dataframe thead th {\n",
       "        text-align: right;\n",
       "    }\n",
       "</style>\n",
       "<table border=\"1\" class=\"dataframe\">\n",
       "  <thead>\n",
       "    <tr style=\"text-align: right;\">\n",
       "      <th></th>\n",
       "      <th>income</th>\n",
       "    </tr>\n",
       "    <tr>\n",
       "      <th>date</th>\n",
       "      <th></th>\n",
       "    </tr>\n",
       "  </thead>\n",
       "  <tbody>\n",
       "    <tr>\n",
       "      <th>2021-09-30</th>\n",
       "      <td>2100</td>\n",
       "    </tr>\n",
       "    <tr>\n",
       "      <th>2021-10-03</th>\n",
       "      <td>3600</td>\n",
       "    </tr>\n",
       "    <tr>\n",
       "      <th>2021-10-04</th>\n",
       "      <td>4000</td>\n",
       "    </tr>\n",
       "    <tr>\n",
       "      <th>2021-10-05</th>\n",
       "      <td>7900</td>\n",
       "    </tr>\n",
       "    <tr>\n",
       "      <th>2021-10-06</th>\n",
       "      <td>7500</td>\n",
       "    </tr>\n",
       "  </tbody>\n",
       "</table>\n",
       "</div>"
      ],
      "text/plain": [
       "            income\n",
       "date              \n",
       "2021-09-30    2100\n",
       "2021-10-03    3600\n",
       "2021-10-04    4000\n",
       "2021-10-05    7900\n",
       "2021-10-06    7500"
      ]
     },
     "execution_count": 6,
     "metadata": {},
     "output_type": "execute_result"
    }
   ],
   "source": [
    "series.head()"
   ]
  },
  {
   "cell_type": "code",
   "execution_count": 7,
   "id": "df27b009",
   "metadata": {
    "execution": {
     "iopub.execute_input": "2023-02-08T17:36:31.077947Z",
     "iopub.status.busy": "2023-02-08T17:36:31.077498Z",
     "iopub.status.idle": "2023-02-08T17:36:31.115362Z",
     "shell.execute_reply": "2023-02-08T17:36:31.112344Z"
    },
    "papermill": {
     "duration": 0.047326,
     "end_time": "2023-02-08T17:36:31.119905",
     "exception": false,
     "start_time": "2023-02-08T17:36:31.072579",
     "status": "completed"
    },
    "tags": []
   },
   "outputs": [
    {
     "name": "stderr",
     "output_type": "stream",
     "text": [
      "/opt/conda/lib/python3.7/site-packages/ipykernel_launcher.py:5: FutureWarning: the 'damped'' keyword is deprecated, use 'damped_trend' instead\n",
      "  \"\"\"\n",
      "/opt/conda/lib/python3.7/site-packages/statsmodels/tsa/base/tsa_model.py:471: ValueWarning: A date index has been provided, but it has no associated frequency information and so will be ignored when e.g. forecasting.\n",
      "  self._init_dates(dates, freq)\n"
     ]
    }
   ],
   "source": [
    "model = ExponentialSmoothing(series,\n",
    "                             trend=\"add\", \n",
    "                             seasonal=\"add\", \n",
    "                             seasonal_periods=12, \n",
    "                             damped=True)"
   ]
  },
  {
   "cell_type": "code",
   "execution_count": null,
   "id": "615f4a71",
   "metadata": {
    "papermill": {
     "duration": 0.004743,
     "end_time": "2023-02-08T17:36:31.130896",
     "exception": false,
     "start_time": "2023-02-08T17:36:31.126153",
     "status": "completed"
    },
    "tags": []
   },
   "outputs": [],
   "source": []
  }
 ],
 "metadata": {
  "kernelspec": {
   "display_name": "Python 3",
   "language": "python",
   "name": "python3"
  },
  "language_info": {
   "codemirror_mode": {
    "name": "ipython",
    "version": 3
   },
   "file_extension": ".py",
   "mimetype": "text/x-python",
   "name": "python",
   "nbconvert_exporter": "python",
   "pygments_lexer": "ipython3",
   "version": "3.7.12"
  },
  "papermill": {
   "default_parameters": {},
   "duration": 14.135903,
   "end_time": "2023-02-08T17:36:34.430932",
   "environment_variables": {},
   "exception": null,
   "input_path": "__notebook__.ipynb",
   "output_path": "__notebook__.ipynb",
   "parameters": {},
   "start_time": "2023-02-08T17:36:20.295029",
   "version": "2.3.4"
  }
 },
 "nbformat": 4,
 "nbformat_minor": 5
}
