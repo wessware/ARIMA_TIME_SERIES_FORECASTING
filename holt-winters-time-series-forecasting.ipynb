{
 "cells": [
  {
   "cell_type": "code",
   "execution_count": 1,
   "id": "15020d55",
   "metadata": {
    "_cell_guid": "b1076dfc-b9ad-4769-8c92-a6c4dae69d19",
    "_uuid": "8f2839f25d086af736a60e9eeb907d3b93b6e0e5",
    "execution": {
     "iopub.execute_input": "2023-02-08T17:40:04.203449Z",
     "iopub.status.busy": "2023-02-08T17:40:04.202436Z",
     "iopub.status.idle": "2023-02-08T17:40:05.648933Z",
     "shell.execute_reply": "2023-02-08T17:40:05.647501Z"
    },
    "papermill": {
     "duration": 1.456555,
     "end_time": "2023-02-08T17:40:05.652298",
     "exception": false,
     "start_time": "2023-02-08T17:40:04.195743",
     "status": "completed"
    },
    "tags": []
   },
   "outputs": [],
   "source": [
    "import pandas as pd \n",
    "import seaborn as sns\n",
    "import matplotlib\n",
    "\n",
    "from statsmodels.tsa.holtwinters import ExponentialSmoothing"
   ]
  },
  {
   "cell_type": "code",
   "execution_count": 2,
   "id": "64739ae1",
   "metadata": {
    "execution": {
     "iopub.execute_input": "2023-02-08T17:40:05.663879Z",
     "iopub.status.busy": "2023-02-08T17:40:05.663019Z",
     "iopub.status.idle": "2023-02-08T17:40:05.669986Z",
     "shell.execute_reply": "2023-02-08T17:40:05.669001Z"
    },
    "papermill": {
     "duration": 0.014893,
     "end_time": "2023-02-08T17:40:05.672709",
     "exception": false,
     "start_time": "2023-02-08T17:40:05.657816",
     "status": "completed"
    },
    "tags": []
   },
   "outputs": [],
   "source": [
    "pd.set_option('display.max_columns', None)\n",
    "pd.set_option('display.max_rows', 150)\n",
    "sns.set_style('darkgrid')\n",
    "matplotlib.rcParams['font.size'] = 14\n",
    "matplotlib.rcParams['figure.figsize'] = (10, 6)\n",
    "matplotlib.rcParams['figure.facecolor'] = '#000000'"
   ]
  },
  {
   "cell_type": "code",
   "execution_count": 3,
   "id": "18eea4f3",
   "metadata": {
    "execution": {
     "iopub.execute_input": "2023-02-08T17:40:05.682495Z",
     "iopub.status.busy": "2023-02-08T17:40:05.681595Z",
     "iopub.status.idle": "2023-02-08T17:40:05.764791Z",
     "shell.execute_reply": "2023-02-08T17:40:05.762892Z"
    },
    "papermill": {
     "duration": 0.0919,
     "end_time": "2023-02-08T17:40:05.768197",
     "exception": false,
     "start_time": "2023-02-08T17:40:05.676297",
     "status": "completed"
    },
    "tags": []
   },
   "outputs": [],
   "source": [
    "df = pd.read_csv('/kaggle/input/case-ih-time-series-data/data.csv', index_col=['date'], parse_dates=['date'])"
   ]
  },
  {
   "cell_type": "code",
   "execution_count": 4,
   "id": "360fb300",
   "metadata": {
    "execution": {
     "iopub.execute_input": "2023-02-08T17:40:05.778614Z",
     "iopub.status.busy": "2023-02-08T17:40:05.778062Z",
     "iopub.status.idle": "2023-02-08T17:40:05.805643Z",
     "shell.execute_reply": "2023-02-08T17:40:05.804235Z"
    },
    "papermill": {
     "duration": 0.038326,
     "end_time": "2023-02-08T17:40:05.810172",
     "exception": false,
     "start_time": "2023-02-08T17:40:05.771846",
     "status": "completed"
    },
    "tags": []
   },
   "outputs": [
    {
     "data": {
      "text/html": [
       "<div>\n",
       "<style scoped>\n",
       "    .dataframe tbody tr th:only-of-type {\n",
       "        vertical-align: middle;\n",
       "    }\n",
       "\n",
       "    .dataframe tbody tr th {\n",
       "        vertical-align: top;\n",
       "    }\n",
       "\n",
       "    .dataframe thead th {\n",
       "        text-align: right;\n",
       "    }\n",
       "</style>\n",
       "<table border=\"1\" class=\"dataframe\">\n",
       "  <thead>\n",
       "    <tr style=\"text-align: right;\">\n",
       "      <th></th>\n",
       "      <th>work</th>\n",
       "      <th>income</th>\n",
       "    </tr>\n",
       "    <tr>\n",
       "      <th>date</th>\n",
       "      <th></th>\n",
       "      <th></th>\n",
       "    </tr>\n",
       "  </thead>\n",
       "  <tbody>\n",
       "    <tr>\n",
       "      <th>2021-09-30</th>\n",
       "      <td>2</td>\n",
       "      <td>2100</td>\n",
       "    </tr>\n",
       "    <tr>\n",
       "      <th>2021-10-03</th>\n",
       "      <td>1</td>\n",
       "      <td>3600</td>\n",
       "    </tr>\n",
       "    <tr>\n",
       "      <th>2021-10-04</th>\n",
       "      <td>1</td>\n",
       "      <td>4000</td>\n",
       "    </tr>\n",
       "    <tr>\n",
       "      <th>2021-10-05</th>\n",
       "      <td>1</td>\n",
       "      <td>7900</td>\n",
       "    </tr>\n",
       "    <tr>\n",
       "      <th>2021-10-06</th>\n",
       "      <td>1</td>\n",
       "      <td>7500</td>\n",
       "    </tr>\n",
       "  </tbody>\n",
       "</table>\n",
       "</div>"
      ],
      "text/plain": [
       "            work  income\n",
       "date                    \n",
       "2021-09-30     2    2100\n",
       "2021-10-03     1    3600\n",
       "2021-10-04     1    4000\n",
       "2021-10-05     1    7900\n",
       "2021-10-06     1    7500"
      ]
     },
     "execution_count": 4,
     "metadata": {},
     "output_type": "execute_result"
    }
   ],
   "source": [
    "df.head()"
   ]
  },
  {
   "cell_type": "code",
   "execution_count": 5,
   "id": "27d53085",
   "metadata": {
    "execution": {
     "iopub.execute_input": "2023-02-08T17:40:05.820172Z",
     "iopub.status.busy": "2023-02-08T17:40:05.819612Z",
     "iopub.status.idle": "2023-02-08T17:40:05.827429Z",
     "shell.execute_reply": "2023-02-08T17:40:05.826220Z"
    },
    "papermill": {
     "duration": 0.01585,
     "end_time": "2023-02-08T17:40:05.830013",
     "exception": false,
     "start_time": "2023-02-08T17:40:05.814163",
     "status": "completed"
    },
    "tags": []
   },
   "outputs": [],
   "source": [
    "series = df[['income']]"
   ]
  },
  {
   "cell_type": "code",
   "execution_count": 6,
   "id": "978b2c4b",
   "metadata": {
    "execution": {
     "iopub.execute_input": "2023-02-08T17:40:05.841110Z",
     "iopub.status.busy": "2023-02-08T17:40:05.839816Z",
     "iopub.status.idle": "2023-02-08T17:40:05.853022Z",
     "shell.execute_reply": "2023-02-08T17:40:05.851864Z"
    },
    "papermill": {
     "duration": 0.021706,
     "end_time": "2023-02-08T17:40:05.855651",
     "exception": false,
     "start_time": "2023-02-08T17:40:05.833945",
     "status": "completed"
    },
    "tags": []
   },
   "outputs": [
    {
     "data": {
      "text/html": [
       "<div>\n",
       "<style scoped>\n",
       "    .dataframe tbody tr th:only-of-type {\n",
       "        vertical-align: middle;\n",
       "    }\n",
       "\n",
       "    .dataframe tbody tr th {\n",
       "        vertical-align: top;\n",
       "    }\n",
       "\n",
       "    .dataframe thead th {\n",
       "        text-align: right;\n",
       "    }\n",
       "</style>\n",
       "<table border=\"1\" class=\"dataframe\">\n",
       "  <thead>\n",
       "    <tr style=\"text-align: right;\">\n",
       "      <th></th>\n",
       "      <th>income</th>\n",
       "    </tr>\n",
       "    <tr>\n",
       "      <th>date</th>\n",
       "      <th></th>\n",
       "    </tr>\n",
       "  </thead>\n",
       "  <tbody>\n",
       "    <tr>\n",
       "      <th>2021-09-30</th>\n",
       "      <td>2100</td>\n",
       "    </tr>\n",
       "    <tr>\n",
       "      <th>2021-10-03</th>\n",
       "      <td>3600</td>\n",
       "    </tr>\n",
       "    <tr>\n",
       "      <th>2021-10-04</th>\n",
       "      <td>4000</td>\n",
       "    </tr>\n",
       "    <tr>\n",
       "      <th>2021-10-05</th>\n",
       "      <td>7900</td>\n",
       "    </tr>\n",
       "    <tr>\n",
       "      <th>2021-10-06</th>\n",
       "      <td>7500</td>\n",
       "    </tr>\n",
       "  </tbody>\n",
       "</table>\n",
       "</div>"
      ],
      "text/plain": [
       "            income\n",
       "date              \n",
       "2021-09-30    2100\n",
       "2021-10-03    3600\n",
       "2021-10-04    4000\n",
       "2021-10-05    7900\n",
       "2021-10-06    7500"
      ]
     },
     "execution_count": 6,
     "metadata": {},
     "output_type": "execute_result"
    }
   ],
   "source": [
    "series.head()"
   ]
  },
  {
   "cell_type": "code",
   "execution_count": 7,
   "id": "bc8c6b92",
   "metadata": {
    "execution": {
     "iopub.execute_input": "2023-02-08T17:40:05.866715Z",
     "iopub.status.busy": "2023-02-08T17:40:05.865316Z",
     "iopub.status.idle": "2023-02-08T17:40:05.908117Z",
     "shell.execute_reply": "2023-02-08T17:40:05.906880Z"
    },
    "papermill": {
     "duration": 0.050836,
     "end_time": "2023-02-08T17:40:05.910649",
     "exception": false,
     "start_time": "2023-02-08T17:40:05.859813",
     "status": "completed"
    },
    "tags": []
   },
   "outputs": [
    {
     "name": "stderr",
     "output_type": "stream",
     "text": [
      "/opt/conda/lib/python3.7/site-packages/ipykernel_launcher.py:5: FutureWarning: the 'damped'' keyword is deprecated, use 'damped_trend' instead\n",
      "  \"\"\"\n",
      "/opt/conda/lib/python3.7/site-packages/statsmodels/tsa/base/tsa_model.py:471: ValueWarning: A date index has been provided, but it has no associated frequency information and so will be ignored when e.g. forecasting.\n",
      "  self._init_dates(dates, freq)\n"
     ]
    }
   ],
   "source": [
    "model = ExponentialSmoothing(series,\n",
    "                             trend=\"add\", \n",
    "                             seasonal=\"add\", \n",
    "                             seasonal_periods=12, \n",
    "                             damped=True)"
   ]
  },
  {
   "cell_type": "code",
   "execution_count": 8,
   "id": "d432f272",
   "metadata": {
    "execution": {
     "iopub.execute_input": "2023-02-08T17:40:05.925178Z",
     "iopub.status.busy": "2023-02-08T17:40:05.921081Z",
     "iopub.status.idle": "2023-02-08T17:40:06.048040Z",
     "shell.execute_reply": "2023-02-08T17:40:06.047005Z"
    },
    "papermill": {
     "duration": 0.137207,
     "end_time": "2023-02-08T17:40:06.051957",
     "exception": false,
     "start_time": "2023-02-08T17:40:05.914750",
     "status": "completed"
    },
    "tags": []
   },
   "outputs": [
    {
     "name": "stderr",
     "output_type": "stream",
     "text": [
      "/opt/conda/lib/python3.7/site-packages/statsmodels/tsa/holtwinters/model.py:917: ConvergenceWarning: Optimization failed to converge. Check mle_retvals.\n",
      "  ConvergenceWarning,\n"
     ]
    }
   ],
   "source": [
    "model_fit = model.fit()"
   ]
  },
  {
   "cell_type": "code",
   "execution_count": 9,
   "id": "ea90af45",
   "metadata": {
    "execution": {
     "iopub.execute_input": "2023-02-08T17:40:06.066383Z",
     "iopub.status.busy": "2023-02-08T17:40:06.065327Z",
     "iopub.status.idle": "2023-02-08T17:40:06.078330Z",
     "shell.execute_reply": "2023-02-08T17:40:06.076436Z"
    },
    "papermill": {
     "duration": 0.022854,
     "end_time": "2023-02-08T17:40:06.080835",
     "exception": false,
     "start_time": "2023-02-08T17:40:06.057981",
     "status": "completed"
    },
    "tags": []
   },
   "outputs": [
    {
     "name": "stderr",
     "output_type": "stream",
     "text": [
      "/opt/conda/lib/python3.7/site-packages/statsmodels/tsa/base/tsa_model.py:843: ValueWarning: No supported index is available. Prediction results will be given with an integer index beginning at `start`.\n",
      "  data=self.data,\n"
     ]
    }
   ],
   "source": [
    "yhat = model_fit.predict(len(series), len(series))"
   ]
  },
  {
   "cell_type": "code",
   "execution_count": 10,
   "id": "8d24d4f6",
   "metadata": {
    "execution": {
     "iopub.execute_input": "2023-02-08T17:40:06.091714Z",
     "iopub.status.busy": "2023-02-08T17:40:06.090884Z",
     "iopub.status.idle": "2023-02-08T17:40:06.098772Z",
     "shell.execute_reply": "2023-02-08T17:40:06.097391Z"
    },
    "papermill": {
     "duration": 0.016407,
     "end_time": "2023-02-08T17:40:06.101715",
     "exception": false,
     "start_time": "2023-02-08T17:40:06.085308",
     "status": "completed"
    },
    "tags": []
   },
   "outputs": [
    {
     "name": "stdout",
     "output_type": "stream",
     "text": [
      "192    5834.740718\n",
      "dtype: float64\n"
     ]
    }
   ],
   "source": [
    "print(yhat)"
   ]
  },
  {
   "cell_type": "code",
   "execution_count": null,
   "id": "3ef7f5a4",
   "metadata": {
    "papermill": {
     "duration": 0.003857,
     "end_time": "2023-02-08T17:40:06.110013",
     "exception": false,
     "start_time": "2023-02-08T17:40:06.106156",
     "status": "completed"
    },
    "tags": []
   },
   "outputs": [],
   "source": []
  }
 ],
 "metadata": {
  "kernelspec": {
   "display_name": "Python 3",
   "language": "python",
   "name": "python3"
  },
  "language_info": {
   "codemirror_mode": {
    "name": "ipython",
    "version": 3
   },
   "file_extension": ".py",
   "mimetype": "text/x-python",
   "name": "python",
   "nbconvert_exporter": "python",
   "pygments_lexer": "ipython3",
   "version": "3.7.12"
  },
  "papermill": {
   "default_parameters": {},
   "duration": 14.026315,
   "end_time": "2023-02-08T17:40:06.938844",
   "environment_variables": {},
   "exception": null,
   "input_path": "__notebook__.ipynb",
   "output_path": "__notebook__.ipynb",
   "parameters": {},
   "start_time": "2023-02-08T17:39:52.912529",
   "version": "2.3.4"
  }
 },
 "nbformat": 4,
 "nbformat_minor": 5
}
