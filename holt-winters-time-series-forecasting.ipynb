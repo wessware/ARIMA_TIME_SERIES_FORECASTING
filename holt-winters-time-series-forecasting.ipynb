{
 "cells": [
  {
   "cell_type": "code",
   "execution_count": 1,
   "id": "42b6edfd",
   "metadata": {
    "_cell_guid": "b1076dfc-b9ad-4769-8c92-a6c4dae69d19",
    "_uuid": "8f2839f25d086af736a60e9eeb907d3b93b6e0e5",
    "execution": {
     "iopub.execute_input": "2023-02-08T17:41:44.734259Z",
     "iopub.status.busy": "2023-02-08T17:41:44.733078Z",
     "iopub.status.idle": "2023-02-08T17:41:45.811019Z",
     "shell.execute_reply": "2023-02-08T17:41:45.809906Z"
    },
    "papermill": {
     "duration": 1.088307,
     "end_time": "2023-02-08T17:41:45.813809",
     "exception": false,
     "start_time": "2023-02-08T17:41:44.725502",
     "status": "completed"
    },
    "tags": []
   },
   "outputs": [],
   "source": [
    "import pandas as pd \n",
    "import seaborn as sns\n",
    "import matplotlib\n",
    "\n",
    "from statsmodels.tsa.holtwinters import ExponentialSmoothing"
   ]
  },
  {
   "cell_type": "code",
   "execution_count": 2,
   "id": "0b6e1c93",
   "metadata": {
    "execution": {
     "iopub.execute_input": "2023-02-08T17:41:45.823682Z",
     "iopub.status.busy": "2023-02-08T17:41:45.822677Z",
     "iopub.status.idle": "2023-02-08T17:41:45.829054Z",
     "shell.execute_reply": "2023-02-08T17:41:45.828102Z"
    },
    "papermill": {
     "duration": 0.013403,
     "end_time": "2023-02-08T17:41:45.831216",
     "exception": false,
     "start_time": "2023-02-08T17:41:45.817813",
     "status": "completed"
    },
    "tags": []
   },
   "outputs": [],
   "source": [
    "pd.set_option('display.max_columns', None)\n",
    "pd.set_option('display.max_rows', 150)\n",
    "sns.set_style('darkgrid')\n",
    "matplotlib.rcParams['font.size'] = 14\n",
    "matplotlib.rcParams['figure.figsize'] = (10, 6)\n",
    "matplotlib.rcParams['figure.facecolor'] = '#000000'"
   ]
  },
  {
   "cell_type": "code",
   "execution_count": 3,
   "id": "5523225b",
   "metadata": {
    "execution": {
     "iopub.execute_input": "2023-02-08T17:41:45.840317Z",
     "iopub.status.busy": "2023-02-08T17:41:45.839396Z",
     "iopub.status.idle": "2023-02-08T17:41:45.899607Z",
     "shell.execute_reply": "2023-02-08T17:41:45.898430Z"
    },
    "papermill": {
     "duration": 0.067472,
     "end_time": "2023-02-08T17:41:45.902258",
     "exception": false,
     "start_time": "2023-02-08T17:41:45.834786",
     "status": "completed"
    },
    "tags": []
   },
   "outputs": [],
   "source": [
    "df = pd.read_csv('/kaggle/input/case-ih-time-series-data/data.csv', index_col=['date'], parse_dates=['date'])"
   ]
  },
  {
   "cell_type": "code",
   "execution_count": 4,
   "id": "e556b2eb",
   "metadata": {
    "execution": {
     "iopub.execute_input": "2023-02-08T17:41:45.911471Z",
     "iopub.status.busy": "2023-02-08T17:41:45.911075Z",
     "iopub.status.idle": "2023-02-08T17:41:45.926850Z",
     "shell.execute_reply": "2023-02-08T17:41:45.925769Z"
    },
    "papermill": {
     "duration": 0.023762,
     "end_time": "2023-02-08T17:41:45.929828",
     "exception": false,
     "start_time": "2023-02-08T17:41:45.906066",
     "status": "completed"
    },
    "tags": []
   },
   "outputs": [
    {
     "data": {
      "text/html": [
       "<div>\n",
       "<style scoped>\n",
       "    .dataframe tbody tr th:only-of-type {\n",
       "        vertical-align: middle;\n",
       "    }\n",
       "\n",
       "    .dataframe tbody tr th {\n",
       "        vertical-align: top;\n",
       "    }\n",
       "\n",
       "    .dataframe thead th {\n",
       "        text-align: right;\n",
       "    }\n",
       "</style>\n",
       "<table border=\"1\" class=\"dataframe\">\n",
       "  <thead>\n",
       "    <tr style=\"text-align: right;\">\n",
       "      <th></th>\n",
       "      <th>work</th>\n",
       "      <th>income</th>\n",
       "    </tr>\n",
       "    <tr>\n",
       "      <th>date</th>\n",
       "      <th></th>\n",
       "      <th></th>\n",
       "    </tr>\n",
       "  </thead>\n",
       "  <tbody>\n",
       "    <tr>\n",
       "      <th>2021-09-30</th>\n",
       "      <td>2</td>\n",
       "      <td>2100</td>\n",
       "    </tr>\n",
       "    <tr>\n",
       "      <th>2021-10-03</th>\n",
       "      <td>1</td>\n",
       "      <td>3600</td>\n",
       "    </tr>\n",
       "    <tr>\n",
       "      <th>2021-10-04</th>\n",
       "      <td>1</td>\n",
       "      <td>4000</td>\n",
       "    </tr>\n",
       "    <tr>\n",
       "      <th>2021-10-05</th>\n",
       "      <td>1</td>\n",
       "      <td>7900</td>\n",
       "    </tr>\n",
       "    <tr>\n",
       "      <th>2021-10-06</th>\n",
       "      <td>1</td>\n",
       "      <td>7500</td>\n",
       "    </tr>\n",
       "  </tbody>\n",
       "</table>\n",
       "</div>"
      ],
      "text/plain": [
       "            work  income\n",
       "date                    \n",
       "2021-09-30     2    2100\n",
       "2021-10-03     1    3600\n",
       "2021-10-04     1    4000\n",
       "2021-10-05     1    7900\n",
       "2021-10-06     1    7500"
      ]
     },
     "execution_count": 4,
     "metadata": {},
     "output_type": "execute_result"
    }
   ],
   "source": [
    "df.head()"
   ]
  },
  {
   "cell_type": "code",
   "execution_count": 5,
   "id": "10e5cb4d",
   "metadata": {
    "execution": {
     "iopub.execute_input": "2023-02-08T17:41:45.939191Z",
     "iopub.status.busy": "2023-02-08T17:41:45.938805Z",
     "iopub.status.idle": "2023-02-08T17:41:45.944590Z",
     "shell.execute_reply": "2023-02-08T17:41:45.943553Z"
    },
    "papermill": {
     "duration": 0.012926,
     "end_time": "2023-02-08T17:41:45.946759",
     "exception": false,
     "start_time": "2023-02-08T17:41:45.933833",
     "status": "completed"
    },
    "tags": []
   },
   "outputs": [],
   "source": [
    "series = df[['income']]"
   ]
  },
  {
   "cell_type": "code",
   "execution_count": 6,
   "id": "fa951b55",
   "metadata": {
    "execution": {
     "iopub.execute_input": "2023-02-08T17:41:45.955616Z",
     "iopub.status.busy": "2023-02-08T17:41:45.955228Z",
     "iopub.status.idle": "2023-02-08T17:41:45.964993Z",
     "shell.execute_reply": "2023-02-08T17:41:45.963995Z"
    },
    "papermill": {
     "duration": 0.016662,
     "end_time": "2023-02-08T17:41:45.967147",
     "exception": false,
     "start_time": "2023-02-08T17:41:45.950485",
     "status": "completed"
    },
    "tags": []
   },
   "outputs": [
    {
     "data": {
      "text/html": [
       "<div>\n",
       "<style scoped>\n",
       "    .dataframe tbody tr th:only-of-type {\n",
       "        vertical-align: middle;\n",
       "    }\n",
       "\n",
       "    .dataframe tbody tr th {\n",
       "        vertical-align: top;\n",
       "    }\n",
       "\n",
       "    .dataframe thead th {\n",
       "        text-align: right;\n",
       "    }\n",
       "</style>\n",
       "<table border=\"1\" class=\"dataframe\">\n",
       "  <thead>\n",
       "    <tr style=\"text-align: right;\">\n",
       "      <th></th>\n",
       "      <th>income</th>\n",
       "    </tr>\n",
       "    <tr>\n",
       "      <th>date</th>\n",
       "      <th></th>\n",
       "    </tr>\n",
       "  </thead>\n",
       "  <tbody>\n",
       "    <tr>\n",
       "      <th>2021-09-30</th>\n",
       "      <td>2100</td>\n",
       "    </tr>\n",
       "    <tr>\n",
       "      <th>2021-10-03</th>\n",
       "      <td>3600</td>\n",
       "    </tr>\n",
       "    <tr>\n",
       "      <th>2021-10-04</th>\n",
       "      <td>4000</td>\n",
       "    </tr>\n",
       "    <tr>\n",
       "      <th>2021-10-05</th>\n",
       "      <td>7900</td>\n",
       "    </tr>\n",
       "    <tr>\n",
       "      <th>2021-10-06</th>\n",
       "      <td>7500</td>\n",
       "    </tr>\n",
       "  </tbody>\n",
       "</table>\n",
       "</div>"
      ],
      "text/plain": [
       "            income\n",
       "date              \n",
       "2021-09-30    2100\n",
       "2021-10-03    3600\n",
       "2021-10-04    4000\n",
       "2021-10-05    7900\n",
       "2021-10-06    7500"
      ]
     },
     "execution_count": 6,
     "metadata": {},
     "output_type": "execute_result"
    }
   ],
   "source": [
    "series.head()"
   ]
  },
  {
   "cell_type": "code",
   "execution_count": 7,
   "id": "ab8182c7",
   "metadata": {
    "execution": {
     "iopub.execute_input": "2023-02-08T17:41:45.976632Z",
     "iopub.status.busy": "2023-02-08T17:41:45.976248Z",
     "iopub.status.idle": "2023-02-08T17:41:46.001623Z",
     "shell.execute_reply": "2023-02-08T17:41:46.000507Z"
    },
    "papermill": {
     "duration": 0.039666,
     "end_time": "2023-02-08T17:41:46.010969",
     "exception": false,
     "start_time": "2023-02-08T17:41:45.971303",
     "status": "completed"
    },
    "tags": []
   },
   "outputs": [
    {
     "name": "stderr",
     "output_type": "stream",
     "text": [
      "/opt/conda/lib/python3.7/site-packages/ipykernel_launcher.py:5: FutureWarning: the 'damped'' keyword is deprecated, use 'damped_trend' instead\n",
      "  \"\"\"\n",
      "/opt/conda/lib/python3.7/site-packages/statsmodels/tsa/base/tsa_model.py:471: ValueWarning: A date index has been provided, but it has no associated frequency information and so will be ignored when e.g. forecasting.\n",
      "  self._init_dates(dates, freq)\n"
     ]
    }
   ],
   "source": [
    "model = ExponentialSmoothing(series,\n",
    "                             trend=\"add\", \n",
    "                             seasonal=\"add\", \n",
    "                             seasonal_periods=12, \n",
    "                             damped=True)"
   ]
  },
  {
   "cell_type": "code",
   "execution_count": 8,
   "id": "dd466caa",
   "metadata": {
    "execution": {
     "iopub.execute_input": "2023-02-08T17:41:46.022872Z",
     "iopub.status.busy": "2023-02-08T17:41:46.021891Z",
     "iopub.status.idle": "2023-02-08T17:41:46.117428Z",
     "shell.execute_reply": "2023-02-08T17:41:46.115493Z"
    },
    "papermill": {
     "duration": 0.104115,
     "end_time": "2023-02-08T17:41:46.120664",
     "exception": false,
     "start_time": "2023-02-08T17:41:46.016549",
     "status": "completed"
    },
    "tags": []
   },
   "outputs": [
    {
     "name": "stderr",
     "output_type": "stream",
     "text": [
      "/opt/conda/lib/python3.7/site-packages/statsmodels/tsa/holtwinters/model.py:917: ConvergenceWarning: Optimization failed to converge. Check mle_retvals.\n",
      "  ConvergenceWarning,\n"
     ]
    }
   ],
   "source": [
    "model_fit = model.fit()"
   ]
  },
  {
   "cell_type": "code",
   "execution_count": 9,
   "id": "75805fd3",
   "metadata": {
    "execution": {
     "iopub.execute_input": "2023-02-08T17:41:46.131730Z",
     "iopub.status.busy": "2023-02-08T17:41:46.130759Z",
     "iopub.status.idle": "2023-02-08T17:41:46.141525Z",
     "shell.execute_reply": "2023-02-08T17:41:46.140205Z"
    },
    "papermill": {
     "duration": 0.018598,
     "end_time": "2023-02-08T17:41:46.143912",
     "exception": false,
     "start_time": "2023-02-08T17:41:46.125314",
     "status": "completed"
    },
    "tags": []
   },
   "outputs": [
    {
     "name": "stderr",
     "output_type": "stream",
     "text": [
      "/opt/conda/lib/python3.7/site-packages/statsmodels/tsa/base/tsa_model.py:843: ValueWarning: No supported index is available. Prediction results will be given with an integer index beginning at `start`.\n",
      "  data=self.data,\n"
     ]
    }
   ],
   "source": [
    "yhat = model_fit.predict(len(series), len(series))"
   ]
  },
  {
   "cell_type": "code",
   "execution_count": 10,
   "id": "8cbfe510",
   "metadata": {
    "execution": {
     "iopub.execute_input": "2023-02-08T17:41:46.154004Z",
     "iopub.status.busy": "2023-02-08T17:41:46.153606Z",
     "iopub.status.idle": "2023-02-08T17:41:46.159918Z",
     "shell.execute_reply": "2023-02-08T17:41:46.158778Z"
    },
    "papermill": {
     "duration": 0.01463,
     "end_time": "2023-02-08T17:41:46.162723",
     "exception": false,
     "start_time": "2023-02-08T17:41:46.148093",
     "status": "completed"
    },
    "tags": []
   },
   "outputs": [
    {
     "name": "stdout",
     "output_type": "stream",
     "text": [
      "192    5834.740718\n",
      "dtype: float64\n"
     ]
    }
   ],
   "source": [
    "print(yhat)"
   ]
  },
  {
   "cell_type": "code",
   "execution_count": 11,
   "id": "61b8910a",
   "metadata": {
    "execution": {
     "iopub.execute_input": "2023-02-08T17:41:46.173025Z",
     "iopub.status.busy": "2023-02-08T17:41:46.172622Z",
     "iopub.status.idle": "2023-02-08T17:41:46.179239Z",
     "shell.execute_reply": "2023-02-08T17:41:46.177998Z"
    },
    "papermill": {
     "duration": 0.014405,
     "end_time": "2023-02-08T17:41:46.181476",
     "exception": false,
     "start_time": "2023-02-08T17:41:46.167071",
     "status": "completed"
    },
    "tags": []
   },
   "outputs": [],
   "source": [
    "size = int(len(series) * 0.64)\n",
    "\n",
    "train, test = series[0:size], series[size:len(series)]\n",
    "\n",
    "history = [x for x in train]\n",
    "\n",
    "predictions = list()"
   ]
  },
  {
   "cell_type": "code",
   "execution_count": null,
   "id": "c21356b3",
   "metadata": {
    "papermill": {
     "duration": 0.004009,
     "end_time": "2023-02-08T17:41:46.189974",
     "exception": false,
     "start_time": "2023-02-08T17:41:46.185965",
     "status": "completed"
    },
    "tags": []
   },
   "outputs": [],
   "source": []
  }
 ],
 "metadata": {
  "kernelspec": {
   "display_name": "Python 3",
   "language": "python",
   "name": "python3"
  },
  "language_info": {
   "codemirror_mode": {
    "name": "ipython",
    "version": 3
   },
   "file_extension": ".py",
   "mimetype": "text/x-python",
   "name": "python",
   "nbconvert_exporter": "python",
   "pygments_lexer": "ipython3",
   "version": "3.7.12"
  },
  "papermill": {
   "default_parameters": {},
   "duration": 10.334948,
   "end_time": "2023-02-08T17:41:46.915874",
   "environment_variables": {},
   "exception": null,
   "input_path": "__notebook__.ipynb",
   "output_path": "__notebook__.ipynb",
   "parameters": {},
   "start_time": "2023-02-08T17:41:36.580926",
   "version": "2.3.4"
  }
 },
 "nbformat": 4,
 "nbformat_minor": 5
}
